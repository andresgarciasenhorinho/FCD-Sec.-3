{
  "nbformat": 4,
  "nbformat_minor": 0,
  "metadata": {
    "colab": {
      "name": "Ayudantia1.ipynb",
      "provenance": []
    },
    "kernelspec": {
      "name": "python3",
      "display_name": "Python 3"
    },
    "language_info": {
      "name": "python"
    }
  },
  "cells": [
    {
      "cell_type": "code",
      "metadata": {
        "id": "OHz5GeGY779M"
      },
      "source": [
        "import pandas as pd"
      ],
      "execution_count": 1,
      "outputs": []
    },
    {
      "cell_type": "markdown",
      "metadata": {
        "id": "43OsScKT8cYs"
      },
      "source": [
        "Importamos las librerias necesarias para trabajar, después comenzamos por importar nuestro CSV"
      ]
    },
    {
      "cell_type": "code",
      "metadata": {
        "id": "kYLcZuBg8lgS"
      },
      "source": [
        "df = pd.read_csv(\"data.csv\")"
      ],
      "execution_count": 2,
      "outputs": []
    },
    {
      "cell_type": "markdown",
      "metadata": {
        "id": "L6-31KIxMOyH"
      },
      "source": [
        ""
      ]
    },
    {
      "cell_type": "markdown",
      "metadata": {
        "id": "boAupSED8qjk"
      },
      "source": [
        "Una costumbre útil para trabajar con pandas y CSV es definir las series con las que se van a trabajar desde un principio"
      ]
    },
    {
      "cell_type": "code",
      "metadata": {
        "id": "2e75DHqx842Z"
      },
      "source": [
        "edad = df[\"age\"]\n",
        "altura = df[\"height\"]\n",
        "genero = df[\"gender\"]\n",
        "colesterol = df[\"cholesterol\"]"
      ],
      "execution_count": 3,
      "outputs": []
    },
    {
      "cell_type": "markdown",
      "metadata": {
        "id": "J-I5QRAx9B2Y"
      },
      "source": [
        "Después podemos comenzar a revicar los datos que vamos a utilizar, en este caso podemos hacer el siguiente comando para ver la descripción de las alturas según los géneros, en el caso del género 1:\n"
      ]
    },
    {
      "cell_type": "code",
      "metadata": {
        "colab": {
          "base_uri": "https://localhost:8080/"
        },
        "id": "qUsMZ6Ri9UfF",
        "outputId": "54aff670-6653-45c1-8a83-2f2bd95a8551"
      },
      "source": [
        "altura[genero == 1].describe()"
      ],
      "execution_count": 20,
      "outputs": [
        {
          "output_type": "execute_result",
          "data": {
            "text/plain": [
              "count    45530.000000\n",
              "mean       161.355612\n",
              "std          7.052726\n",
              "min         55.000000\n",
              "25%        157.000000\n",
              "50%        161.000000\n",
              "75%        166.000000\n",
              "max        250.000000\n",
              "Name: height, dtype: float64"
            ]
          },
          "metadata": {
            "tags": []
          },
          "execution_count": 20
        }
      ]
    },
    {
      "cell_type": "markdown",
      "metadata": {
        "id": "SoJAY1bi9djH"
      },
      "source": [
        "Y con el género 2:"
      ]
    },
    {
      "cell_type": "code",
      "metadata": {
        "colab": {
          "base_uri": "https://localhost:8080/"
        },
        "id": "a8xEcc339iNm",
        "outputId": "b82d196d-55dd-4515-d109-810a0801e74f"
      },
      "source": [
        "altura[genero == 2].describe()"
      ],
      "execution_count": 5,
      "outputs": [
        {
          "output_type": "execute_result",
          "data": {
            "text/plain": [
              "count    24470.000000\n",
              "mean       169.947895\n",
              "std          7.228895\n",
              "min         65.000000\n",
              "25%        165.000000\n",
              "50%        170.000000\n",
              "75%        175.000000\n",
              "max        207.000000\n",
              "Name: height, dtype: float64"
            ]
          },
          "metadata": {
            "tags": []
          },
          "execution_count": 5
        }
      ]
    },
    {
      "cell_type": "code",
      "metadata": {
        "id": "PnjvXrfH90K2"
      },
      "source": [
        "Y así es como se pueden hacer distintos análisis sobre los datos, tales como"
      ],
      "execution_count": null,
      "outputs": []
    },
    {
      "cell_type": "code",
      "metadata": {
        "colab": {
          "base_uri": "https://localhost:8080/"
        },
        "id": "0ubpefzK-TMZ",
        "outputId": "33620ef6-21ad-4619-e464-f98862d4b100"
      },
      "source": [
        "altura.mean()"
      ],
      "execution_count": 8,
      "outputs": [
        {
          "output_type": "execute_result",
          "data": {
            "text/plain": [
              "164.35922857142856"
            ]
          },
          "metadata": {
            "tags": []
          },
          "execution_count": 8
        }
      ]
    },
    {
      "cell_type": "code",
      "metadata": {
        "colab": {
          "base_uri": "https://localhost:8080/"
        },
        "id": "DKMUCZzW-TWC",
        "outputId": "50a9fd8d-a928-4ffb-d661-34ecdcd408eb"
      },
      "source": [
        "altura.std()"
      ],
      "execution_count": 9,
      "outputs": [
        {
          "output_type": "execute_result",
          "data": {
            "text/plain": [
              "8.210126364538139"
            ]
          },
          "metadata": {
            "tags": []
          },
          "execution_count": 9
        }
      ]
    },
    {
      "cell_type": "code",
      "metadata": {
        "colab": {
          "base_uri": "https://localhost:8080/"
        },
        "id": "rrsaHHCj-Tds",
        "outputId": "13fdd3e8-c714-4224-e349-8bf81a9be0c0"
      },
      "source": [
        "altura.max()"
      ],
      "execution_count": 10,
      "outputs": [
        {
          "output_type": "execute_result",
          "data": {
            "text/plain": [
              "250"
            ]
          },
          "metadata": {
            "tags": []
          },
          "execution_count": 10
        }
      ]
    },
    {
      "cell_type": "code",
      "metadata": {
        "colab": {
          "base_uri": "https://localhost:8080/"
        },
        "id": "A42RejJD-XEa",
        "outputId": "48c677ed-ba86-41fe-aea3-f6b8f4c53005"
      },
      "source": [
        "altura.mean()"
      ],
      "execution_count": 11,
      "outputs": [
        {
          "output_type": "execute_result",
          "data": {
            "text/plain": [
              "164.35922857142856"
            ]
          },
          "metadata": {
            "tags": []
          },
          "execution_count": 11
        }
      ]
    },
    {
      "cell_type": "code",
      "metadata": {
        "colab": {
          "base_uri": "https://localhost:8080/"
        },
        "id": "miFSgRqL-c6N",
        "outputId": "d3943e19-6670-43f6-80a4-df41372e3b6b"
      },
      "source": [
        "altura[genero == 1][colesterol == 3].mean()"
      ],
      "execution_count": 21,
      "outputs": [
        {
          "output_type": "execute_result",
          "data": {
            "text/plain": [
              "160.33453302141444"
            ]
          },
          "metadata": {
            "tags": []
          },
          "execution_count": 21
        }
      ]
    },
    {
      "cell_type": "markdown",
      "metadata": {
        "id": "fJnl4r4A-vAF"
      },
      "source": [
        "Otra de las cosas más importantes al momento de analizar datos es poder graficar estos, para ello generalmente se usa la librería Matplotlib"
      ]
    },
    {
      "cell_type": "code",
      "metadata": {
        "id": "ll9QrDw3_D77"
      },
      "source": [
        "import matplotlib as plt"
      ],
      "execution_count": null,
      "outputs": []
    },
    {
      "cell_type": "markdown",
      "metadata": {
        "id": "sLCxGeYy_Hjl"
      },
      "source": [
        "Y armamos nuestro código para el gráfico, en este caso haremos un gráfico de caja para analizar la distribución de las altura"
      ]
    },
    {
      "cell_type": "code",
      "metadata": {
        "colab": {
          "base_uri": "https://localhost:8080/",
          "height": 444
        },
        "id": "CwC4liUm_1Q5",
        "outputId": "b3e060f4-716a-49d7-da92-dbc4fe5af743"
      },
      "source": [
        "fig1 = plt.figure(figsize =(10, 7)) #Define el tamaño de mi gráfico\n",
        "plt.boxplot(altura) #Defino que quiero hacer un boxplot de la altura\n",
        "plt.title(\"Boxplot de altura\") #le pongo título a mi Gráfico\n",
        "plt.show() #Muestro mi gráfico\n"
      ],
      "execution_count": 23,
      "outputs": [
        {
          "output_type": "display_data",
          "data": {
            "image/png": "[encoded data removed]",
            "text/plain": [
              "<Figure size 720x504 with 1 Axes>"
            ]
          },
          "metadata": {
            "tags": [],
            "needs_background": "light"
          }
        }
      ]
    },
    {
      "cell_type": "markdown",
      "metadata": {
        "id": "4qxUVW4ZAHA4"
      },
      "source": [
        "Y así puedo ir complejizando más"
      ]
    },
    {
      "cell_type": "code",
      "metadata": {
        "colab": {
          "base_uri": "https://localhost:8080/",
          "height": 498
        },
        "id": "KASFL5R6AVet",
        "outputId": "0e86be5c-3d4e-4a49-a3ce-c70883207db8"
      },
      "source": [
        "fig2 = plt.figure(figsize =(10, 7))\n",
        "plt.boxplot([altura[genero == 1], altura[genero == 2]]) #Separo las alturas por hombre y mujer, y las añado al plot\n",
        "plt.title(\"Boxplot de altura por género\")\n",
        "plt.xticks([1, 2], ['Género 1', 'Género 2'])#Le cambio los Ticks (nombres) a el eje x\n",
        "plt.show()"
      ],
      "execution_count": 25,
      "outputs": [
        {
          "output_type": "stream",
          "text": [
            "/usr/local/lib/python3.7/dist-packages/numpy/core/_asarray.py:83: VisibleDeprecationWarning: Creating an ndarray from ragged nested sequences (which is a list-or-tuple of lists-or-tuples-or ndarrays with different lengths or shapes) is deprecated. If you meant to do this, you must specify 'dtype=object' when creating the ndarray\n",
            "  return array(a, dtype, copy=False, order=order)\n"
          ],
          "name": "stderr"
        },
        {
          "output_type": "display_data",
          "data": {
            "image/png": "[encoded data removed]",
            "text/plain": [
              "<Figure size 720x504 with 1 Axes>"
            ]
          },
          "metadata": {
            "tags": [],
            "needs_background": "light"
          }
        }
      ]
    },
    {
      "cell_type": "markdown",
      "metadata": {
        "id": "WAexE_1yA1ME"
      },
      "source": [
        "Y se puede complejizar MÁS aún"
      ]
    },
    {
      "cell_type": "code",
      "metadata": {
        "colab": {
          "base_uri": "https://localhost:8080/",
          "height": 499
        },
        "id": "GGWrW7-YA5Ks",
        "outputId": "4fdd303a-2582-431e-f9f0-0a02da2bd35c"
      },
      "source": [
        "fig2 = plt.figure(figsize =(10, 7))\n",
        "plt.boxplot([altura[genero == 1][colesterol == 1], altura[genero == 1][colesterol == 2], altura[genero == 1][colesterol == 3], altura[genero == 2][colesterol == 1], altura[genero == 2][colesterol == 2], altura[genero == 2][colesterol == 3]])\n",
        "plt.title(\"Boxplot de altura por género y colesterol\")\n",
        "plt.xticks([1, 2, 3, 4 , 5, 6], ['Gén. 1 Col bajo', 'Gén. 1 Col medio', 'Gén. 1 Col alto', 'Gén. 2 Col. bajo', 'Gén. 2 Col. medio','Gén. 2 Col. alto'])\n",
        "plt.show() #Gráfico que distingue por colesterol y género"
      ],
      "execution_count": 15,
      "outputs": [
        {
          "output_type": "stream",
          "text": [
            "/usr/local/lib/python3.7/dist-packages/numpy/core/_asarray.py:83: VisibleDeprecationWarning: Creating an ndarray from ragged nested sequences (which is a list-or-tuple of lists-or-tuples-or ndarrays with different lengths or shapes) is deprecated. If you meant to do this, you must specify 'dtype=object' when creating the ndarray\n",
            "  return array(a, dtype, copy=False, order=order)\n"
          ],
          "name": "stderr"
        },
        {
          "output_type": "display_data",
          "data": {
            "image/png": "[encoded data removed]",
            "text/plain": [
              "<Figure size 720x504 with 1 Axes>"
            ]
          },
          "metadata": {
            "tags": [],
            "needs_background": "light"
          }
        }
      ]
    },
    {
      "cell_type": "markdown",
      "metadata": {
        "id": "LJ6OrSjxBBQ9"
      },
      "source": [
        ""
      ]
    },
    {
      "cell_type": "markdown",
      "metadata": {
        "id": "frcWLFHMBJl5"
      },
      "source": [
        "Ahora vamos a utilizar el comando Groupby, que sirve para agrupar datos según la necesidad (hicimos algo parecido en el último gráfico, pero esto ahorra código, y si se utiliza bien puede ser mucho más potente)"
      ]
    },
    {
      "cell_type": "code",
      "metadata": {
        "colab": {
          "base_uri": "https://localhost:8080/",
          "height": 173
        },
        "id": "QeuhN0mtBeTt",
        "outputId": "ae706b10-b6a3-4ab9-9052-900b218a93b4"
      },
      "source": [
        "df.groupby(colesterol)[\"height\"].describe() #Entre paréntesis va la variable categórica por la cual quiero separar los datos, y después entre corchetes la variable numérica (puede ser categórica tb) que quiero analizar"
      ],
      "execution_count": 28,
      "outputs": [
        {
          "output_type": "execute_result",
          "data": {
            "text/html": [
              "<div>\n",
              "<style scoped>\n",
              "    .dataframe tbody tr th:only-of-type {\n",
              "        vertical-align: middle;\n",
              "    }\n",
              "\n",
              "    .dataframe tbody tr th {\n",
              "        vertical-align: top;\n",
              "    }\n",
              "\n",
              "    .dataframe thead th {\n",
              "        text-align: right;\n",
              "    }\n",
              "</style>\n",
              "<table border=\"1\" class=\"dataframe\">\n",
              "  <thead>\n",
              "    <tr style=\"text-align: right;\">\n",
              "      <th></th>\n",
              "      <th>count</th>\n",
              "      <th>mean</th>\n",
              "      <th>std</th>\n",
              "      <th>min</th>\n",
              "      <th>25%</th>\n",
              "      <th>50%</th>\n",
              "      <th>75%</th>\n",
              "      <th>max</th>\n",
              "    </tr>\n",
              "    <tr>\n",
              "      <th>cholesterol</th>\n",
              "      <th></th>\n",
              "      <th></th>\n",
              "      <th></th>\n",
              "      <th></th>\n",
              "      <th></th>\n",
              "      <th></th>\n",
              "      <th></th>\n",
              "      <th></th>\n",
              "    </tr>\n",
              "  </thead>\n",
              "  <tbody>\n",
              "    <tr>\n",
              "      <th>1</th>\n",
              "      <td>52385.0</td>\n",
              "      <td>164.590283</td>\n",
              "      <td>8.174264</td>\n",
              "      <td>55.0</td>\n",
              "      <td>159.0</td>\n",
              "      <td>165.0</td>\n",
              "      <td>170.0</td>\n",
              "      <td>207.0</td>\n",
              "    </tr>\n",
              "    <tr>\n",
              "      <th>2</th>\n",
              "      <td>9549.0</td>\n",
              "      <td>163.880406</td>\n",
              "      <td>8.276570</td>\n",
              "      <td>110.0</td>\n",
              "      <td>158.0</td>\n",
              "      <td>164.0</td>\n",
              "      <td>169.0</td>\n",
              "      <td>200.0</td>\n",
              "    </tr>\n",
              "    <tr>\n",
              "      <th>3</th>\n",
              "      <td>8066.0</td>\n",
              "      <td>163.425490</td>\n",
              "      <td>8.273590</td>\n",
              "      <td>71.0</td>\n",
              "      <td>158.0</td>\n",
              "      <td>163.0</td>\n",
              "      <td>169.0</td>\n",
              "      <td>250.0</td>\n",
              "    </tr>\n",
              "  </tbody>\n",
              "</table>\n",
              "</div>"
            ],
            "text/plain": [
              "               count        mean       std    min    25%    50%    75%    max\n",
              "cholesterol                                                                  \n",
              "1            52385.0  164.590283  8.174264   55.0  159.0  165.0  170.0  207.0\n",
              "2             9549.0  163.880406  8.276570  110.0  158.0  164.0  169.0  200.0\n",
              "3             8066.0  163.425490  8.273590   71.0  158.0  163.0  169.0  250.0"
            ]
          },
          "metadata": {
            "tags": []
          },
          "execution_count": 28
        }
      ]
    },
    {
      "cell_type": "markdown",
      "metadata": {
        "id": "GyeReH-YB3Uj"
      },
      "source": [
        "Y todo esto se puede ir mezclando"
      ]
    },
    {
      "cell_type": "code",
      "metadata": {
        "colab": {
          "base_uri": "https://localhost:8080/",
          "height": 142
        },
        "id": "3iQShJfzCHfM",
        "outputId": "0153819b-e9c5-4623-8803-c4fe33402c0c"
      },
      "source": [
        "df.groupby(genero)[\"weight\"].describe()"
      ],
      "execution_count": 17,
      "outputs": [
        {
          "output_type": "execute_result",
          "data": {
            "text/html": [
              "<div>\n",
              "<style scoped>\n",
              "    .dataframe tbody tr th:only-of-type {\n",
              "        vertical-align: middle;\n",
              "    }\n",
              "\n",
              "    .dataframe tbody tr th {\n",
              "        vertical-align: top;\n",
              "    }\n",
              "\n",
              "    .dataframe thead th {\n",
              "        text-align: right;\n",
              "    }\n",
              "</style>\n",
              "<table border=\"1\" class=\"dataframe\">\n",
              "  <thead>\n",
              "    <tr style=\"text-align: right;\">\n",
              "      <th></th>\n",
              "      <th>count</th>\n",
              "      <th>mean</th>\n",
              "      <th>std</th>\n",
              "      <th>min</th>\n",
              "      <th>25%</th>\n",
              "      <th>50%</th>\n",
              "      <th>75%</th>\n",
              "      <th>max</th>\n",
              "    </tr>\n",
              "    <tr>\n",
              "      <th>gender</th>\n",
              "      <th></th>\n",
              "      <th></th>\n",
              "      <th></th>\n",
              "      <th></th>\n",
              "      <th></th>\n",
              "      <th></th>\n",
              "      <th></th>\n",
              "      <th></th>\n",
              "    </tr>\n",
              "  </thead>\n",
              "  <tbody>\n",
              "    <tr>\n",
              "      <th>1</th>\n",
              "      <td>45530.0</td>\n",
              "      <td>72.565605</td>\n",
              "      <td>14.238838</td>\n",
              "      <td>21.0</td>\n",
              "      <td>63.0</td>\n",
              "      <td>70.0</td>\n",
              "      <td>80.0</td>\n",
              "      <td>200.0</td>\n",
              "    </tr>\n",
              "    <tr>\n",
              "      <th>2</th>\n",
              "      <td>24470.0</td>\n",
              "      <td>77.257307</td>\n",
              "      <td>14.187636</td>\n",
              "      <td>10.0</td>\n",
              "      <td>68.0</td>\n",
              "      <td>75.0</td>\n",
              "      <td>85.0</td>\n",
              "      <td>200.0</td>\n",
              "    </tr>\n",
              "  </tbody>\n",
              "</table>\n",
              "</div>"
            ],
            "text/plain": [
              "          count       mean        std   min   25%   50%   75%    max\n",
              "gender                                                              \n",
              "1       45530.0  72.565605  14.238838  21.0  63.0  70.0  80.0  200.0\n",
              "2       24470.0  77.257307  14.187636  10.0  68.0  75.0  85.0  200.0"
            ]
          },
          "metadata": {
            "tags": []
          },
          "execution_count": 17
        }
      ]
    },
    {
      "cell_type": "code",
      "metadata": {
        "colab": {
          "base_uri": "https://localhost:8080/"
        },
        "id": "GqBdpcj3CUnI",
        "outputId": "df2056fc-5cc1-40b3-c5c4-d2e565420ac0"
      },
      "source": [
        "df.groupby([\"gender\", \"cholesterol\"]).size()"
      ],
      "execution_count": 18,
      "outputs": [
        {
          "output_type": "execute_result",
          "data": {
            "text/plain": [
              "gender  cholesterol\n",
              "1       1              33570\n",
              "        2               6403\n",
              "        3               5557\n",
              "2       1              18815\n",
              "        2               3146\n",
              "        3               2509\n",
              "dtype: int64"
            ]
          },
          "metadata": {
            "tags": []
          },
          "execution_count": 18
        }
      ]
    }
  ]
}