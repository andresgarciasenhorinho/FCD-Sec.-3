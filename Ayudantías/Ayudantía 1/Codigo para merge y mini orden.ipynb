{
  "nbformat": 4,
  "nbformat_minor": 0,
  "metadata": {
    "colab": {
      "name": "Untitled1.ipynb",
      "provenance": []
    },
    "kernelspec": {
      "name": "python3",
      "display_name": "Python 3"
    },
    "language_info": {
      "name": "python"
    }
  },
  "cells": [
    {
      "cell_type": "markdown",
      "metadata": {
        "id": "R6LO7hyyc3r0"
      },
      "source": [
        "Importo pandas con el pd para no escribir \"pandas\""
      ]
    },
    {
      "cell_type": "code",
      "metadata": {
        "id": "BzfKwusmdCLv"
      },
      "source": [
        "import pandas as pd"
      ],
      "execution_count": 1,
      "outputs": []
    },
    {
      "cell_type": "markdown",
      "metadata": {
        "id": "w6ncR9YzdErP"
      },
      "source": [
        "Cargo los CSV"
      ]
    },
    {
      "cell_type": "code",
      "metadata": {
        "id": "Svi1rd2jdKdH"
      },
      "source": [
        "df1 = pd.read_csv(\"datos_comunas.csv\")\n",
        "df2 = pd.read_csv(\"poblacion.csv\",  sep = \";\")"
      ],
      "execution_count": 3,
      "outputs": []
    },
    {
      "cell_type": "markdown",
      "metadata": {
        "id": "seGNiGYCdMpP"
      },
      "source": [
        "Hago el merge, me fijo que el \"right_on\" y \"left_on\" inquen los mismos datos (no necesariamente el mismo nombre de la columna, pero si el mismo contenido de la columna)"
      ]
    },
    {
      "cell_type": "code",
      "metadata": {
        "id": "5-mcjf6sdhh4"
      },
      "source": [
        "df = pd.merge(df1, df2, left_on='id', right_on='CODIGO')"
      ],
      "execution_count": 4,
      "outputs": []
    },
    {
      "cell_type": "markdown",
      "metadata": {
        "id": "LY0CEDSWdknl"
      },
      "source": [
        "Defino series para trabajar más fácil"
      ]
    },
    {
      "cell_type": "code",
      "metadata": {
        "id": "1iDB8ZMsdofU"
      },
      "source": [
        "mt_plaza = df[\"metros_plaza\"]\n",
        "comunas = df[\"MUNICIPIO\"]\n",
        "personas = df[\"personas_trabaja\"]"
      ],
      "execution_count": 5,
      "outputs": []
    },
    {
      "cell_type": "markdown",
      "metadata": {
        "id": "ih08JrLydtvD"
      },
      "source": [
        "Reviso el nombre de la comuna con más trabajadores en la municipalidad"
      ]
    },
    {
      "cell_type": "code",
      "metadata": {
        "colab": {
          "base_uri": "https://localhost:8080/",
          "height": 419
        },
        "id": "RhvwqryMd37z",
        "outputId": "94e264bb-d99c-4dd4-f099-5ea955cea93a"
      },
      "source": [
        "df.sort_values(by='personas_trabaja', ascending=False)"
      ],
      "execution_count": 6,
      "outputs": [
        {
          "output_type": "execute_result",
          "data": {
            "text/html": [
              "<div>\n",
              "<style scoped>\n",
              "    .dataframe tbody tr th:only-of-type {\n",
              "        vertical-align: middle;\n",
              "    }\n",
              "\n",
              "    .dataframe tbody tr th {\n",
              "        vertical-align: top;\n",
              "    }\n",
              "\n",
              "    .dataframe thead th {\n",
              "        text-align: right;\n",
              "    }\n",
              "</style>\n",
              "<table border=\"1\" class=\"dataframe\">\n",
              "  <thead>\n",
              "    <tr style=\"text-align: right;\">\n",
              "      <th></th>\n",
              "      <th>id</th>\n",
              "      <th>metros_plaza</th>\n",
              "      <th>metros_parque</th>\n",
              "      <th>personas_trabaja</th>\n",
              "      <th>CODIGO</th>\n",
              "      <th>MUNICIPIO</th>\n",
              "      <th>POBLACIÓN</th>\n",
              "    </tr>\n",
              "  </thead>\n",
              "  <tbody>\n",
              "    <tr>\n",
              "      <th>256</th>\n",
              "      <td>13101</td>\n",
              "      <td>330216.0</td>\n",
              "      <td>1578022.0</td>\n",
              "      <td>1356.0</td>\n",
              "      <td>13101</td>\n",
              "      <td>SANTIAGO</td>\n",
              "      <td>486838</td>\n",
              "    </tr>\n",
              "    <tr>\n",
              "      <th>46</th>\n",
              "      <td>5109</td>\n",
              "      <td>809912.0</td>\n",
              "      <td>566972.0</td>\n",
              "      <td>718.0</td>\n",
              "      <td>5109</td>\n",
              "      <td>VIÑA DEL MAR</td>\n",
              "      <td>357228</td>\n",
              "    </tr>\n",
              "    <tr>\n",
              "      <th>269</th>\n",
              "      <td>13114</td>\n",
              "      <td>1636790.0</td>\n",
              "      <td>362000.0</td>\n",
              "      <td>716.0</td>\n",
              "      <td>13114</td>\n",
              "      <td>LAS CONDES</td>\n",
              "      <td>323309</td>\n",
              "    </tr>\n",
              "    <tr>\n",
              "      <th>278</th>\n",
              "      <td>13123</td>\n",
              "      <td>212347.0</td>\n",
              "      <td>418630.0</td>\n",
              "      <td>666.0</td>\n",
              "      <td>13123</td>\n",
              "      <td>PROVIDENCIA</td>\n",
              "      <td>154446</td>\n",
              "    </tr>\n",
              "    <tr>\n",
              "      <th>40</th>\n",
              "      <td>5101</td>\n",
              "      <td>464470.0</td>\n",
              "      <td>0.0</td>\n",
              "      <td>649.0</td>\n",
              "      <td>5101</td>\n",
              "      <td>VALPARAÍSO</td>\n",
              "      <td>313185</td>\n",
              "    </tr>\n",
              "    <tr>\n",
              "      <th>...</th>\n",
              "      <td>...</td>\n",
              "      <td>...</td>\n",
              "      <td>...</td>\n",
              "      <td>...</td>\n",
              "      <td>...</td>\n",
              "      <td>...</td>\n",
              "      <td>...</td>\n",
              "    </tr>\n",
              "    <tr>\n",
              "      <th>311</th>\n",
              "      <td>14104</td>\n",
              "      <td>NaN</td>\n",
              "      <td>NaN</td>\n",
              "      <td>NaN</td>\n",
              "      <td>14104</td>\n",
              "      <td>LOS LAGOS</td>\n",
              "      <td>20488</td>\n",
              "    </tr>\n",
              "    <tr>\n",
              "      <th>331</th>\n",
              "      <td>16108</td>\n",
              "      <td>28459.0</td>\n",
              "      <td>0.0</td>\n",
              "      <td>NaN</td>\n",
              "      <td>16108</td>\n",
              "      <td>SAN IGNACIO</td>\n",
              "      <td>16598</td>\n",
              "    </tr>\n",
              "    <tr>\n",
              "      <th>333</th>\n",
              "      <td>16201</td>\n",
              "      <td>NaN</td>\n",
              "      <td>NaN</td>\n",
              "      <td>NaN</td>\n",
              "      <td>16201</td>\n",
              "      <td>QUIRIHUE</td>\n",
              "      <td>12155</td>\n",
              "    </tr>\n",
              "    <tr>\n",
              "      <th>334</th>\n",
              "      <td>16202</td>\n",
              "      <td>NaN</td>\n",
              "      <td>NaN</td>\n",
              "      <td>NaN</td>\n",
              "      <td>16202</td>\n",
              "      <td>COBQUECURA</td>\n",
              "      <td>5281</td>\n",
              "    </tr>\n",
              "    <tr>\n",
              "      <th>339</th>\n",
              "      <td>16207</td>\n",
              "      <td>5500.0</td>\n",
              "      <td>7500.0</td>\n",
              "      <td>NaN</td>\n",
              "      <td>16207</td>\n",
              "      <td>TREHUACO</td>\n",
              "      <td>5667</td>\n",
              "    </tr>\n",
              "  </tbody>\n",
              "</table>\n",
              "<p>345 rows × 7 columns</p>\n",
              "</div>"
            ],
            "text/plain": [
              "        id  metros_plaza  metros_parque  ...  CODIGO     MUNICIPIO POBLACIÓN\n",
              "256  13101      330216.0      1578022.0  ...   13101      SANTIAGO    486838\n",
              "46    5109      809912.0       566972.0  ...    5109  VIÑA DEL MAR    357228\n",
              "269  13114     1636790.0       362000.0  ...   13114    LAS CONDES    323309\n",
              "278  13123      212347.0       418630.0  ...   13123   PROVIDENCIA    154446\n",
              "40    5101      464470.0            0.0  ...    5101    VALPARAÍSO    313185\n",
              "..     ...           ...            ...  ...     ...           ...       ...\n",
              "311  14104           NaN            NaN  ...   14104     LOS LAGOS     20488\n",
              "331  16108       28459.0            0.0  ...   16108   SAN IGNACIO     16598\n",
              "333  16201           NaN            NaN  ...   16201      QUIRIHUE     12155\n",
              "334  16202           NaN            NaN  ...   16202    COBQUECURA      5281\n",
              "339  16207        5500.0         7500.0  ...   16207      TREHUACO      5667\n",
              "\n",
              "[345 rows x 7 columns]"
            ]
          },
          "metadata": {
            "tags": []
          },
          "execution_count": 6
        }
      ]
    }
  ]
}