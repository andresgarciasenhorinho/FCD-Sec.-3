{
  "nbformat": 4,
  "nbformat_minor": 0,
  "metadata": {
    "colab": {
      "name": "Ayudantía 2 STGO.ipynb",
      "provenance": []
    },
    "kernelspec": {
      "name": "python3",
      "display_name": "Python 3"
    },
    "language_info": {
      "name": "python"
    }
  },
  "cells": [
    {
      "cell_type": "markdown",
      "metadata": {
        "id": "-rSOYy1KD0Io"
      },
      "source": [
        "Tópicos:\n",
        "1. Limpieza de datos\n",
        "2. EDA\n",
        "3. Tipos de datos y Binning"
      ]
    },
    {
      "cell_type": "markdown",
      "metadata": {
        "id": "EZjn-t3rEbtn"
      },
      "source": [
        "Para la limpieza de datos trabajaremos con el CSV \"Data\", el cual tiene un par de datos grandes, primero leeremos los datos e importaremos las librerías."
      ]
    },
    {
      "cell_type": "code",
      "metadata": {
        "id": "OHxYo6hNFFas",
        "colab": {
          "base_uri": "https://localhost:8080/"
        },
        "outputId": "04dba78e-e3cf-4c72-f83c-817224cbd729"
      },
      "source": [
        "import pandas as pd\n",
        "import numpy as np\n",
        "df = pd.read_csv(\"data.csv\")"
      ],
      "execution_count": null,
      "outputs": [
        {
          "output_type": "stream",
          "text": [
            "/usr/local/lib/python3.7/dist-packages/IPython/core/interactiveshell.py:2718: DtypeWarning: Columns (1) have mixed types.Specify dtype option on import or set low_memory=False.\n",
            "  interactivity=interactivity, compiler=compiler, result=result)\n"
          ],
          "name": "stderr"
        }
      ]
    },
    {
      "cell_type": "code",
      "metadata": {
        "colab": {
          "base_uri": "https://localhost:8080/"
        },
        "id": "EMiitgJhFVYw",
        "outputId": "a2d4881d-77d5-4ffe-92ad-a7c8ead43ba7"
      },
      "source": [
        "df.isnull().sum() #así se la cantidad de datos con NaN\n"
      ],
      "execution_count": null,
      "outputs": [
        {
          "output_type": "execute_result",
          "data": {
            "text/plain": [
              "id             0\n",
              "age            1\n",
              "gender         0\n",
              "height         2\n",
              "weight         2\n",
              "ap_hi          0\n",
              "ap_lo          0\n",
              "cholesterol    0\n",
              "gluc           0\n",
              "smoke          0\n",
              "alco           0\n",
              "active         0\n",
              "cardio         0\n",
              "dtype: int64"
            ]
          },
          "metadata": {
            "tags": []
          },
          "execution_count": 6
        }
      ]
    },
    {
      "cell_type": "markdown",
      "metadata": {
        "id": "ayBqv6IJ_WBg"
      },
      "source": [
        "Si queremos eliminar los registros que contienen al menos un NaN, se utiliza el .dropna()"
      ]
    },
    {
      "cell_type": "code",
      "metadata": {
        "colab": {
          "base_uri": "https://localhost:8080/",
          "height": 419
        },
        "id": "lWRbKZOctVT7",
        "outputId": "f41e6393-35a5-432e-8ed8-a4dfaddeac10"
      },
      "source": [
        "df_drop = df.dropna()\n",
        "df_drop"
      ],
      "execution_count": null,
      "outputs": [
        {
          "output_type": "execute_result",
          "data": {
            "text/html": [
              "<div>\n",
              "<style scoped>\n",
              "    .dataframe tbody tr th:only-of-type {\n",
              "        vertical-align: middle;\n",
              "    }\n",
              "\n",
              "    .dataframe tbody tr th {\n",
              "        vertical-align: top;\n",
              "    }\n",
              "\n",
              "    .dataframe thead th {\n",
              "        text-align: right;\n",
              "    }\n",
              "</style>\n",
              "<table border=\"1\" class=\"dataframe\">\n",
              "  <thead>\n",
              "    <tr style=\"text-align: right;\">\n",
              "      <th></th>\n",
              "      <th>id</th>\n",
              "      <th>age</th>\n",
              "      <th>gender</th>\n",
              "      <th>height</th>\n",
              "      <th>weight</th>\n",
              "      <th>ap_hi</th>\n",
              "      <th>ap_lo</th>\n",
              "      <th>cholesterol</th>\n",
              "      <th>gluc</th>\n",
              "      <th>smoke</th>\n",
              "      <th>alco</th>\n",
              "      <th>active</th>\n",
              "      <th>cardio</th>\n",
              "    </tr>\n",
              "  </thead>\n",
              "  <tbody>\n",
              "    <tr>\n",
              "      <th>0</th>\n",
              "      <td>0</td>\n",
              "      <td>18393</td>\n",
              "      <td>2</td>\n",
              "      <td>168.0</td>\n",
              "      <td>62.0</td>\n",
              "      <td>110</td>\n",
              "      <td>80</td>\n",
              "      <td>1</td>\n",
              "      <td>1</td>\n",
              "      <td>0</td>\n",
              "      <td>0</td>\n",
              "      <td>1</td>\n",
              "      <td>0</td>\n",
              "    </tr>\n",
              "    <tr>\n",
              "      <th>1</th>\n",
              "      <td>1</td>\n",
              "      <td>20228</td>\n",
              "      <td>1</td>\n",
              "      <td>156.0</td>\n",
              "      <td>85.0</td>\n",
              "      <td>140</td>\n",
              "      <td>90</td>\n",
              "      <td>3</td>\n",
              "      <td>1</td>\n",
              "      <td>0</td>\n",
              "      <td>0</td>\n",
              "      <td>1</td>\n",
              "      <td>1</td>\n",
              "    </tr>\n",
              "    <tr>\n",
              "      <th>2</th>\n",
              "      <td>2</td>\n",
              "      <td>18857</td>\n",
              "      <td>1</td>\n",
              "      <td>165.0</td>\n",
              "      <td>64.0</td>\n",
              "      <td>130</td>\n",
              "      <td>70</td>\n",
              "      <td>3</td>\n",
              "      <td>1</td>\n",
              "      <td>0</td>\n",
              "      <td>0</td>\n",
              "      <td>0</td>\n",
              "      <td>1</td>\n",
              "    </tr>\n",
              "    <tr>\n",
              "      <th>3</th>\n",
              "      <td>3</td>\n",
              "      <td>17623</td>\n",
              "      <td>2</td>\n",
              "      <td>169.0</td>\n",
              "      <td>82.0</td>\n",
              "      <td>150</td>\n",
              "      <td>100</td>\n",
              "      <td>1</td>\n",
              "      <td>1</td>\n",
              "      <td>0</td>\n",
              "      <td>0</td>\n",
              "      <td>1</td>\n",
              "      <td>1</td>\n",
              "    </tr>\n",
              "    <tr>\n",
              "      <th>4</th>\n",
              "      <td>4</td>\n",
              "      <td>17474</td>\n",
              "      <td>1</td>\n",
              "      <td>156.0</td>\n",
              "      <td>56.0</td>\n",
              "      <td>100</td>\n",
              "      <td>60</td>\n",
              "      <td>1</td>\n",
              "      <td>1</td>\n",
              "      <td>0</td>\n",
              "      <td>0</td>\n",
              "      <td>0</td>\n",
              "      <td>0</td>\n",
              "    </tr>\n",
              "    <tr>\n",
              "      <th>...</th>\n",
              "      <td>...</td>\n",
              "      <td>...</td>\n",
              "      <td>...</td>\n",
              "      <td>...</td>\n",
              "      <td>...</td>\n",
              "      <td>...</td>\n",
              "      <td>...</td>\n",
              "      <td>...</td>\n",
              "      <td>...</td>\n",
              "      <td>...</td>\n",
              "      <td>...</td>\n",
              "      <td>...</td>\n",
              "      <td>...</td>\n",
              "    </tr>\n",
              "    <tr>\n",
              "      <th>70001</th>\n",
              "      <td>99993</td>\n",
              "      <td>19240</td>\n",
              "      <td>2</td>\n",
              "      <td>168.0</td>\n",
              "      <td>76.0</td>\n",
              "      <td>120</td>\n",
              "      <td>80</td>\n",
              "      <td>1</td>\n",
              "      <td>1</td>\n",
              "      <td>1</td>\n",
              "      <td>0</td>\n",
              "      <td>1</td>\n",
              "      <td>0</td>\n",
              "    </tr>\n",
              "    <tr>\n",
              "      <th>70002</th>\n",
              "      <td>99995</td>\n",
              "      <td>22601</td>\n",
              "      <td>1</td>\n",
              "      <td>158.0</td>\n",
              "      <td>126.0</td>\n",
              "      <td>140</td>\n",
              "      <td>90</td>\n",
              "      <td>2</td>\n",
              "      <td>2</td>\n",
              "      <td>0</td>\n",
              "      <td>0</td>\n",
              "      <td>1</td>\n",
              "      <td>1</td>\n",
              "    </tr>\n",
              "    <tr>\n",
              "      <th>70003</th>\n",
              "      <td>99996</td>\n",
              "      <td>19066</td>\n",
              "      <td>2</td>\n",
              "      <td>183.0</td>\n",
              "      <td>105.0</td>\n",
              "      <td>180</td>\n",
              "      <td>90</td>\n",
              "      <td>3</td>\n",
              "      <td>1</td>\n",
              "      <td>0</td>\n",
              "      <td>1</td>\n",
              "      <td>0</td>\n",
              "      <td>1</td>\n",
              "    </tr>\n",
              "    <tr>\n",
              "      <th>70004</th>\n",
              "      <td>99998</td>\n",
              "      <td>22431</td>\n",
              "      <td>1</td>\n",
              "      <td>163.0</td>\n",
              "      <td>72.0</td>\n",
              "      <td>135</td>\n",
              "      <td>80</td>\n",
              "      <td>1</td>\n",
              "      <td>2</td>\n",
              "      <td>0</td>\n",
              "      <td>0</td>\n",
              "      <td>0</td>\n",
              "      <td>1</td>\n",
              "    </tr>\n",
              "    <tr>\n",
              "      <th>70005</th>\n",
              "      <td>99999</td>\n",
              "      <td>20540</td>\n",
              "      <td>1</td>\n",
              "      <td>170.0</td>\n",
              "      <td>72.0</td>\n",
              "      <td>120</td>\n",
              "      <td>80</td>\n",
              "      <td>2</td>\n",
              "      <td>1</td>\n",
              "      <td>0</td>\n",
              "      <td>0</td>\n",
              "      <td>1</td>\n",
              "      <td>0</td>\n",
              "    </tr>\n",
              "  </tbody>\n",
              "</table>\n",
              "<p>70001 rows × 13 columns</p>\n",
              "</div>"
            ],
            "text/plain": [
              "          id    age  gender  height  weight  ...  gluc  smoke  alco  active  cardio\n",
              "0          0  18393       2   168.0    62.0  ...     1      0     0       1       0\n",
              "1          1  20228       1   156.0    85.0  ...     1      0     0       1       1\n",
              "2          2  18857       1   165.0    64.0  ...     1      0     0       0       1\n",
              "3          3  17623       2   169.0    82.0  ...     1      0     0       1       1\n",
              "4          4  17474       1   156.0    56.0  ...     1      0     0       0       0\n",
              "...      ...    ...     ...     ...     ...  ...   ...    ...   ...     ...     ...\n",
              "70001  99993  19240       2   168.0    76.0  ...     1      1     0       1       0\n",
              "70002  99995  22601       1   158.0   126.0  ...     2      0     0       1       1\n",
              "70003  99996  19066       2   183.0   105.0  ...     1      0     1       0       1\n",
              "70004  99998  22431       1   163.0    72.0  ...     2      0     0       0       1\n",
              "70005  99999  20540       1   170.0    72.0  ...     1      0     0       1       0\n",
              "\n",
              "[70001 rows x 13 columns]"
            ]
          },
          "metadata": {
            "tags": []
          },
          "execution_count": 7
        }
      ]
    },
    {
      "cell_type": "code",
      "metadata": {
        "colab": {
          "base_uri": "https://localhost:8080/"
        },
        "id": "RrMky_BOte0_",
        "outputId": "51aa0e63-6526-4732-c77b-76b668f77818"
      },
      "source": [
        "df_drop.isnull().sum()"
      ],
      "execution_count": null,
      "outputs": [
        {
          "output_type": "execute_result",
          "data": {
            "text/plain": [
              "id             0\n",
              "age            0\n",
              "gender         0\n",
              "height         0\n",
              "weight         0\n",
              "ap_hi          0\n",
              "ap_lo          0\n",
              "cholesterol    0\n",
              "gluc           0\n",
              "smoke          0\n",
              "alco           0\n",
              "active         0\n",
              "cardio         0\n",
              "dtype: int64"
            ]
          },
          "metadata": {
            "tags": []
          },
          "execution_count": 8
        }
      ]
    },
    {
      "cell_type": "code",
      "metadata": {
        "colab": {
          "base_uri": "https://localhost:8080/",
          "height": 419
        },
        "id": "ycvdsq4Jtq1M",
        "outputId": "7b004590-40a2-4d97-fd2b-3d4c940c3a17"
      },
      "source": [
        "df.dropna(axis=1) #elimina columnas no lo hagan pls"
      ],
      "execution_count": null,
      "outputs": [
        {
          "output_type": "execute_result",
          "data": {
            "text/html": [
              "<div>\n",
              "<style scoped>\n",
              "    .dataframe tbody tr th:only-of-type {\n",
              "        vertical-align: middle;\n",
              "    }\n",
              "\n",
              "    .dataframe tbody tr th {\n",
              "        vertical-align: top;\n",
              "    }\n",
              "\n",
              "    .dataframe thead th {\n",
              "        text-align: right;\n",
              "    }\n",
              "</style>\n",
              "<table border=\"1\" class=\"dataframe\">\n",
              "  <thead>\n",
              "    <tr style=\"text-align: right;\">\n",
              "      <th></th>\n",
              "      <th>id</th>\n",
              "      <th>gender</th>\n",
              "      <th>ap_hi</th>\n",
              "      <th>ap_lo</th>\n",
              "      <th>cholesterol</th>\n",
              "      <th>gluc</th>\n",
              "      <th>smoke</th>\n",
              "      <th>alco</th>\n",
              "      <th>active</th>\n",
              "      <th>cardio</th>\n",
              "    </tr>\n",
              "  </thead>\n",
              "  <tbody>\n",
              "    <tr>\n",
              "      <th>0</th>\n",
              "      <td>0</td>\n",
              "      <td>2</td>\n",
              "      <td>110</td>\n",
              "      <td>80</td>\n",
              "      <td>1</td>\n",
              "      <td>1</td>\n",
              "      <td>0</td>\n",
              "      <td>0</td>\n",
              "      <td>1</td>\n",
              "      <td>0</td>\n",
              "    </tr>\n",
              "    <tr>\n",
              "      <th>1</th>\n",
              "      <td>1</td>\n",
              "      <td>1</td>\n",
              "      <td>140</td>\n",
              "      <td>90</td>\n",
              "      <td>3</td>\n",
              "      <td>1</td>\n",
              "      <td>0</td>\n",
              "      <td>0</td>\n",
              "      <td>1</td>\n",
              "      <td>1</td>\n",
              "    </tr>\n",
              "    <tr>\n",
              "      <th>2</th>\n",
              "      <td>2</td>\n",
              "      <td>1</td>\n",
              "      <td>130</td>\n",
              "      <td>70</td>\n",
              "      <td>3</td>\n",
              "      <td>1</td>\n",
              "      <td>0</td>\n",
              "      <td>0</td>\n",
              "      <td>0</td>\n",
              "      <td>1</td>\n",
              "    </tr>\n",
              "    <tr>\n",
              "      <th>3</th>\n",
              "      <td>3</td>\n",
              "      <td>2</td>\n",
              "      <td>150</td>\n",
              "      <td>100</td>\n",
              "      <td>1</td>\n",
              "      <td>1</td>\n",
              "      <td>0</td>\n",
              "      <td>0</td>\n",
              "      <td>1</td>\n",
              "      <td>1</td>\n",
              "    </tr>\n",
              "    <tr>\n",
              "      <th>4</th>\n",
              "      <td>4</td>\n",
              "      <td>1</td>\n",
              "      <td>100</td>\n",
              "      <td>60</td>\n",
              "      <td>1</td>\n",
              "      <td>1</td>\n",
              "      <td>0</td>\n",
              "      <td>0</td>\n",
              "      <td>0</td>\n",
              "      <td>0</td>\n",
              "    </tr>\n",
              "    <tr>\n",
              "      <th>...</th>\n",
              "      <td>...</td>\n",
              "      <td>...</td>\n",
              "      <td>...</td>\n",
              "      <td>...</td>\n",
              "      <td>...</td>\n",
              "      <td>...</td>\n",
              "      <td>...</td>\n",
              "      <td>...</td>\n",
              "      <td>...</td>\n",
              "      <td>...</td>\n",
              "    </tr>\n",
              "    <tr>\n",
              "      <th>70001</th>\n",
              "      <td>99993</td>\n",
              "      <td>2</td>\n",
              "      <td>120</td>\n",
              "      <td>80</td>\n",
              "      <td>1</td>\n",
              "      <td>1</td>\n",
              "      <td>1</td>\n",
              "      <td>0</td>\n",
              "      <td>1</td>\n",
              "      <td>0</td>\n",
              "    </tr>\n",
              "    <tr>\n",
              "      <th>70002</th>\n",
              "      <td>99995</td>\n",
              "      <td>1</td>\n",
              "      <td>140</td>\n",
              "      <td>90</td>\n",
              "      <td>2</td>\n",
              "      <td>2</td>\n",
              "      <td>0</td>\n",
              "      <td>0</td>\n",
              "      <td>1</td>\n",
              "      <td>1</td>\n",
              "    </tr>\n",
              "    <tr>\n",
              "      <th>70003</th>\n",
              "      <td>99996</td>\n",
              "      <td>2</td>\n",
              "      <td>180</td>\n",
              "      <td>90</td>\n",
              "      <td>3</td>\n",
              "      <td>1</td>\n",
              "      <td>0</td>\n",
              "      <td>1</td>\n",
              "      <td>0</td>\n",
              "      <td>1</td>\n",
              "    </tr>\n",
              "    <tr>\n",
              "      <th>70004</th>\n",
              "      <td>99998</td>\n",
              "      <td>1</td>\n",
              "      <td>135</td>\n",
              "      <td>80</td>\n",
              "      <td>1</td>\n",
              "      <td>2</td>\n",
              "      <td>0</td>\n",
              "      <td>0</td>\n",
              "      <td>0</td>\n",
              "      <td>1</td>\n",
              "    </tr>\n",
              "    <tr>\n",
              "      <th>70005</th>\n",
              "      <td>99999</td>\n",
              "      <td>1</td>\n",
              "      <td>120</td>\n",
              "      <td>80</td>\n",
              "      <td>2</td>\n",
              "      <td>1</td>\n",
              "      <td>0</td>\n",
              "      <td>0</td>\n",
              "      <td>1</td>\n",
              "      <td>0</td>\n",
              "    </tr>\n",
              "  </tbody>\n",
              "</table>\n",
              "<p>70006 rows × 10 columns</p>\n",
              "</div>"
            ],
            "text/plain": [
              "          id  gender  ap_hi  ap_lo  ...  smoke  alco  active  cardio\n",
              "0          0       2    110     80  ...      0     0       1       0\n",
              "1          1       1    140     90  ...      0     0       1       1\n",
              "2          2       1    130     70  ...      0     0       0       1\n",
              "3          3       2    150    100  ...      0     0       1       1\n",
              "4          4       1    100     60  ...      0     0       0       0\n",
              "...      ...     ...    ...    ...  ...    ...   ...     ...     ...\n",
              "70001  99993       2    120     80  ...      1     0       1       0\n",
              "70002  99995       1    140     90  ...      0     0       1       1\n",
              "70003  99996       2    180     90  ...      0     1       0       1\n",
              "70004  99998       1    135     80  ...      0     0       0       1\n",
              "70005  99999       1    120     80  ...      0     0       1       0\n",
              "\n",
              "[70006 rows x 10 columns]"
            ]
          },
          "metadata": {
            "tags": []
          },
          "execution_count": 9
        }
      ]
    },
    {
      "cell_type": "markdown",
      "metadata": {
        "id": "xeLWrHfLuEq_"
      },
      "source": [
        "La otra opción para tabajar con los NaN es el .fillna()"
      ]
    },
    {
      "cell_type": "code",
      "metadata": {
        "colab": {
          "base_uri": "https://localhost:8080/",
          "height": 111
        },
        "id": "HJ-HCFVuuDUY",
        "outputId": "b1c0b74c-1230-4531-9148-e07b1f7d9dde"
      },
      "source": [
        "df_filled = df.fillna(0)\n",
        "df_filled[df_filled['height'] == 0]"
      ],
      "execution_count": null,
      "outputs": [
        {
          "output_type": "execute_result",
          "data": {
            "text/html": [
              "<div>\n",
              "<style scoped>\n",
              "    .dataframe tbody tr th:only-of-type {\n",
              "        vertical-align: middle;\n",
              "    }\n",
              "\n",
              "    .dataframe tbody tr th {\n",
              "        vertical-align: top;\n",
              "    }\n",
              "\n",
              "    .dataframe thead th {\n",
              "        text-align: right;\n",
              "    }\n",
              "</style>\n",
              "<table border=\"1\" class=\"dataframe\">\n",
              "  <thead>\n",
              "    <tr style=\"text-align: right;\">\n",
              "      <th></th>\n",
              "      <th>id</th>\n",
              "      <th>age</th>\n",
              "      <th>gender</th>\n",
              "      <th>height</th>\n",
              "      <th>weight</th>\n",
              "      <th>ap_hi</th>\n",
              "      <th>ap_lo</th>\n",
              "      <th>cholesterol</th>\n",
              "      <th>gluc</th>\n",
              "      <th>smoke</th>\n",
              "      <th>alco</th>\n",
              "      <th>active</th>\n",
              "      <th>cardio</th>\n",
              "    </tr>\n",
              "  </thead>\n",
              "  <tbody>\n",
              "    <tr>\n",
              "      <th>58</th>\n",
              "      <td>73</td>\n",
              "      <td>15901</td>\n",
              "      <td>2</td>\n",
              "      <td>0.0</td>\n",
              "      <td>84.0</td>\n",
              "      <td>140</td>\n",
              "      <td>90</td>\n",
              "      <td>1</td>\n",
              "      <td>1</td>\n",
              "      <td>1</td>\n",
              "      <td>0</td>\n",
              "      <td>1</td>\n",
              "      <td>1</td>\n",
              "    </tr>\n",
              "    <tr>\n",
              "      <th>377</th>\n",
              "      <td>527</td>\n",
              "      <td>17740</td>\n",
              "      <td>1</td>\n",
              "      <td>0.0</td>\n",
              "      <td>74.0</td>\n",
              "      <td>120</td>\n",
              "      <td>80</td>\n",
              "      <td>2</td>\n",
              "      <td>2</td>\n",
              "      <td>0</td>\n",
              "      <td>0</td>\n",
              "      <td>0</td>\n",
              "      <td>0</td>\n",
              "    </tr>\n",
              "  </tbody>\n",
              "</table>\n",
              "</div>"
            ],
            "text/plain": [
              "      id    age  gender  height  weight  ...  gluc  smoke  alco  active  cardio\n",
              "58    73  15901       2     0.0    84.0  ...     1      1     0       1       1\n",
              "377  527  17740       1     0.0    74.0  ...     2      0     0       0       0\n",
              "\n",
              "[2 rows x 13 columns]"
            ]
          },
          "metadata": {
            "tags": []
          },
          "execution_count": 134
        }
      ]
    },
    {
      "cell_type": "code",
      "metadata": {
        "colab": {
          "base_uri": "https://localhost:8080/"
        },
        "id": "7UbPHzzPFpwV",
        "outputId": "8037242a-994a-4ef9-a4f4-8e3490c1d93e"
      },
      "source": [
        "df_drop.shape"
      ],
      "execution_count": null,
      "outputs": [
        {
          "output_type": "execute_result",
          "data": {
            "text/plain": [
              "(70001, 13)"
            ]
          },
          "metadata": {
            "tags": []
          },
          "execution_count": 136
        }
      ]
    },
    {
      "cell_type": "code",
      "metadata": {
        "colab": {
          "base_uri": "https://localhost:8080/"
        },
        "id": "-_4bSX7cFwSh",
        "outputId": "c0797e95-87d8-4ce6-b5b6-ffc2e6793812"
      },
      "source": [
        "df_filled.shape"
      ],
      "execution_count": null,
      "outputs": [
        {
          "output_type": "execute_result",
          "data": {
            "text/plain": [
              "(70006, 13)"
            ]
          },
          "metadata": {
            "tags": []
          },
          "execution_count": 135
        }
      ]
    },
    {
      "cell_type": "markdown",
      "metadata": {
        "id": "zSV2G4Wk__lk"
      },
      "source": [
        "OJO, el fillna() puede hacer que cambien ciertos parámetros de los datos, por lo cual hay que usarlos con cuidado"
      ]
    },
    {
      "cell_type": "code",
      "metadata": {
        "colab": {
          "base_uri": "https://localhost:8080/"
        },
        "id": "rrPg8xKc_-7M",
        "outputId": "3268480d-4347-466f-d697-8a24dd9469d1"
      },
      "source": [
        "df_filled['height'].describe()"
      ],
      "execution_count": null,
      "outputs": [
        {
          "output_type": "execute_result",
          "data": {
            "text/plain": [
              "count    70006.000000\n",
              "mean       164.354598\n",
              "std          8.257134\n",
              "min          0.000000\n",
              "25%        159.000000\n",
              "50%        165.000000\n",
              "75%        170.000000\n",
              "max        250.000000\n",
              "Name: height, dtype: float64"
            ]
          },
          "metadata": {
            "tags": []
          },
          "execution_count": 137
        }
      ]
    },
    {
      "cell_type": "code",
      "metadata": {
        "colab": {
          "base_uri": "https://localhost:8080/"
        },
        "id": "t1NpGITaAULD",
        "outputId": "967aa914-1ff8-4d44-b37d-a87c56d81681"
      },
      "source": [
        "df_drop['height'].describe() #miren el mean y el std, si hubieran muchos NA cambiaría mucho más"
      ],
      "execution_count": null,
      "outputs": [
        {
          "output_type": "execute_result",
          "data": {
            "text/plain": [
              "count    70001.000000\n",
              "mean       164.359095\n",
              "std          8.210483\n",
              "min         55.000000\n",
              "25%        159.000000\n",
              "50%        165.000000\n",
              "75%        170.000000\n",
              "max        250.000000\n",
              "Name: height, dtype: float64"
            ]
          },
          "metadata": {
            "tags": []
          },
          "execution_count": 138
        }
      ]
    },
    {
      "cell_type": "markdown",
      "metadata": {
        "id": "NfvZIKvTuf6_"
      },
      "source": [
        "Qué pasa si me aparece una palabra entre muchos datos numéricos de una serie?\n",
        "\n"
      ]
    },
    {
      "cell_type": "code",
      "metadata": {
        "colab": {
          "base_uri": "https://localhost:8080/"
        },
        "id": "VHo9ngJlERWn",
        "outputId": "0f9b2b90-202b-4150-9b38-a14d537361bf"
      },
      "source": [
        "df['age'].mean()"
      ],
      "execution_count": null,
      "outputs": [
        {
          "output_type": "execute_result",
          "data": {
            "text/plain": [
              "19468.895044356508"
            ]
          },
          "metadata": {
            "tags": []
          },
          "execution_count": 18
        }
      ]
    },
    {
      "cell_type": "code",
      "metadata": {
        "colab": {
          "base_uri": "https://localhost:8080/",
          "height": 49
        },
        "id": "JNqbpUsbEtcd",
        "outputId": "5a1acf5e-ed44-4f90-ab69-2e7efdd17bf8"
      },
      "source": [
        "df[df['age'] == \"No adjuntado\"]"
      ],
      "execution_count": null,
      "outputs": [
        {
          "output_type": "execute_result",
          "data": {
            "text/html": [
              "<div>\n",
              "<style scoped>\n",
              "    .dataframe tbody tr th:only-of-type {\n",
              "        vertical-align: middle;\n",
              "    }\n",
              "\n",
              "    .dataframe tbody tr th {\n",
              "        vertical-align: top;\n",
              "    }\n",
              "\n",
              "    .dataframe thead th {\n",
              "        text-align: right;\n",
              "    }\n",
              "</style>\n",
              "<table border=\"1\" class=\"dataframe\">\n",
              "  <thead>\n",
              "    <tr style=\"text-align: right;\">\n",
              "      <th></th>\n",
              "      <th>id</th>\n",
              "      <th>age</th>\n",
              "      <th>gender</th>\n",
              "      <th>height</th>\n",
              "      <th>weight</th>\n",
              "      <th>ap_hi</th>\n",
              "      <th>ap_lo</th>\n",
              "      <th>cholesterol</th>\n",
              "      <th>gluc</th>\n",
              "      <th>smoke</th>\n",
              "      <th>alco</th>\n",
              "      <th>active</th>\n",
              "      <th>cardio</th>\n",
              "    </tr>\n",
              "  </thead>\n",
              "  <tbody>\n",
              "  </tbody>\n",
              "</table>\n",
              "</div>"
            ],
            "text/plain": [
              "Empty DataFrame\n",
              "Columns: [id, age, gender, height, weight, ap_hi, ap_lo, cholesterol, gluc, smoke, alco, active, cardio]\n",
              "Index: []"
            ]
          },
          "metadata": {
            "tags": []
          },
          "execution_count": 19
        }
      ]
    },
    {
      "cell_type": "markdown",
      "metadata": {
        "id": "H9bHu_c_Avx7"
      },
      "source": [
        "Pandas los considerará a todos, incluyendo los datos numéricos, como PALABRAS en vez de NÚMEROS, la mayoría de las veces se puede solucionar con el pd.to_numeric()"
      ]
    },
    {
      "cell_type": "code",
      "metadata": {
        "id": "utH8ggCvEdua"
      },
      "source": [
        "df['age'] = pd.to_numeric(df['age'], errors='coerce')"
      ],
      "execution_count": null,
      "outputs": []
    },
    {
      "cell_type": "code",
      "metadata": {
        "colab": {
          "base_uri": "https://localhost:8080/"
        },
        "id": "vtQiLnXXEnjd",
        "outputId": "01d25e58-efe2-4ca6-f50f-80c39cf9a11a"
      },
      "source": [
        "df['age'].mean()"
      ],
      "execution_count": null,
      "outputs": [
        {
          "output_type": "execute_result",
          "data": {
            "text/plain": [
              "19468.895044356508"
            ]
          },
          "metadata": {
            "tags": []
          },
          "execution_count": 14
        }
      ]
    },
    {
      "cell_type": "markdown",
      "metadata": {
        "id": "qJUnLb0YupZU"
      },
      "source": [
        "Y qué pasa con los datos duplicados?"
      ]
    },
    {
      "cell_type": "code",
      "metadata": {
        "colab": {
          "base_uri": "https://localhost:8080/",
          "height": 235
        },
        "id": "SxA21FMxGWaq",
        "outputId": "72e96318-2fae-41ff-9651-5729c79d6a55"
      },
      "source": [
        "df[df.duplicated()]"
      ],
      "execution_count": null,
      "outputs": [
        {
          "output_type": "execute_result",
          "data": {
            "text/html": [
              "<div>\n",
              "<style scoped>\n",
              "    .dataframe tbody tr th:only-of-type {\n",
              "        vertical-align: middle;\n",
              "    }\n",
              "\n",
              "    .dataframe tbody tr th {\n",
              "        vertical-align: top;\n",
              "    }\n",
              "\n",
              "    .dataframe thead th {\n",
              "        text-align: right;\n",
              "    }\n",
              "</style>\n",
              "<table border=\"1\" class=\"dataframe\">\n",
              "  <thead>\n",
              "    <tr style=\"text-align: right;\">\n",
              "      <th></th>\n",
              "      <th>id</th>\n",
              "      <th>age</th>\n",
              "      <th>gender</th>\n",
              "      <th>height</th>\n",
              "      <th>weight</th>\n",
              "      <th>ap_hi</th>\n",
              "      <th>ap_lo</th>\n",
              "      <th>cholesterol</th>\n",
              "      <th>gluc</th>\n",
              "      <th>smoke</th>\n",
              "      <th>alco</th>\n",
              "      <th>active</th>\n",
              "      <th>cardio</th>\n",
              "    </tr>\n",
              "  </thead>\n",
              "  <tbody>\n",
              "    <tr>\n",
              "      <th>122</th>\n",
              "      <td>158</td>\n",
              "      <td>19109.0</td>\n",
              "      <td>2</td>\n",
              "      <td>180.0</td>\n",
              "      <td>84.0</td>\n",
              "      <td>120</td>\n",
              "      <td>80</td>\n",
              "      <td>1</td>\n",
              "      <td>1</td>\n",
              "      <td>0</td>\n",
              "      <td>0</td>\n",
              "      <td>0</td>\n",
              "      <td>0</td>\n",
              "    </tr>\n",
              "    <tr>\n",
              "      <th>198</th>\n",
              "      <td>158</td>\n",
              "      <td>19109.0</td>\n",
              "      <td>2</td>\n",
              "      <td>180.0</td>\n",
              "      <td>84.0</td>\n",
              "      <td>120</td>\n",
              "      <td>80</td>\n",
              "      <td>1</td>\n",
              "      <td>1</td>\n",
              "      <td>0</td>\n",
              "      <td>0</td>\n",
              "      <td>0</td>\n",
              "      <td>0</td>\n",
              "    </tr>\n",
              "    <tr>\n",
              "      <th>315</th>\n",
              "      <td>359</td>\n",
              "      <td>21897.0</td>\n",
              "      <td>1</td>\n",
              "      <td>160.0</td>\n",
              "      <td>55.0</td>\n",
              "      <td>120</td>\n",
              "      <td>80</td>\n",
              "      <td>1</td>\n",
              "      <td>1</td>\n",
              "      <td>0</td>\n",
              "      <td>0</td>\n",
              "      <td>1</td>\n",
              "      <td>1</td>\n",
              "    </tr>\n",
              "    <tr>\n",
              "      <th>378</th>\n",
              "      <td>359</td>\n",
              "      <td>21897.0</td>\n",
              "      <td>1</td>\n",
              "      <td>160.0</td>\n",
              "      <td>55.0</td>\n",
              "      <td>120</td>\n",
              "      <td>80</td>\n",
              "      <td>1</td>\n",
              "      <td>1</td>\n",
              "      <td>0</td>\n",
              "      <td>0</td>\n",
              "      <td>1</td>\n",
              "      <td>1</td>\n",
              "    </tr>\n",
              "    <tr>\n",
              "      <th>454</th>\n",
              "      <td>567</td>\n",
              "      <td>22148.0</td>\n",
              "      <td>1</td>\n",
              "      <td>156.0</td>\n",
              "      <td>68.0</td>\n",
              "      <td>120</td>\n",
              "      <td>80</td>\n",
              "      <td>3</td>\n",
              "      <td>3</td>\n",
              "      <td>0</td>\n",
              "      <td>0</td>\n",
              "      <td>1</td>\n",
              "      <td>1</td>\n",
              "    </tr>\n",
              "    <tr>\n",
              "      <th>493</th>\n",
              "      <td>567</td>\n",
              "      <td>22148.0</td>\n",
              "      <td>1</td>\n",
              "      <td>156.0</td>\n",
              "      <td>68.0</td>\n",
              "      <td>120</td>\n",
              "      <td>80</td>\n",
              "      <td>3</td>\n",
              "      <td>3</td>\n",
              "      <td>0</td>\n",
              "      <td>0</td>\n",
              "      <td>1</td>\n",
              "      <td>1</td>\n",
              "    </tr>\n",
              "  </tbody>\n",
              "</table>\n",
              "</div>"
            ],
            "text/plain": [
              "      id      age  gender  height  weight  ...  gluc  smoke  alco  active  cardio\n",
              "122  158  19109.0       2   180.0    84.0  ...     1      0     0       0       0\n",
              "198  158  19109.0       2   180.0    84.0  ...     1      0     0       0       0\n",
              "315  359  21897.0       1   160.0    55.0  ...     1      0     0       1       1\n",
              "378  359  21897.0       1   160.0    55.0  ...     1      0     0       1       1\n",
              "454  567  22148.0       1   156.0    68.0  ...     3      0     0       1       1\n",
              "493  567  22148.0       1   156.0    68.0  ...     3      0     0       1       1\n",
              "\n",
              "[6 rows x 13 columns]"
            ]
          },
          "metadata": {
            "tags": []
          },
          "execution_count": 24
        }
      ]
    },
    {
      "cell_type": "code",
      "metadata": {
        "colab": {
          "base_uri": "https://localhost:8080/",
          "height": 49
        },
        "id": "Q6dPAxOrGjIv",
        "outputId": "9dd82369-b8d2-4e02-b136-57c61930cbef"
      },
      "source": [
        "df.drop_duplicates(keep='first',inplace=True) #first hace que se quede con el primer dato de los respetidos y el resto pa juera\n",
        "df[df.duplicated()]"
      ],
      "execution_count": null,
      "outputs": [
        {
          "output_type": "execute_result",
          "data": {
            "text/html": [
              "<div>\n",
              "<style scoped>\n",
              "    .dataframe tbody tr th:only-of-type {\n",
              "        vertical-align: middle;\n",
              "    }\n",
              "\n",
              "    .dataframe tbody tr th {\n",
              "        vertical-align: top;\n",
              "    }\n",
              "\n",
              "    .dataframe thead th {\n",
              "        text-align: right;\n",
              "    }\n",
              "</style>\n",
              "<table border=\"1\" class=\"dataframe\">\n",
              "  <thead>\n",
              "    <tr style=\"text-align: right;\">\n",
              "      <th></th>\n",
              "      <th>id</th>\n",
              "      <th>age</th>\n",
              "      <th>gender</th>\n",
              "      <th>height</th>\n",
              "      <th>weight</th>\n",
              "      <th>ap_hi</th>\n",
              "      <th>ap_lo</th>\n",
              "      <th>cholesterol</th>\n",
              "      <th>gluc</th>\n",
              "      <th>smoke</th>\n",
              "      <th>alco</th>\n",
              "      <th>active</th>\n",
              "      <th>cardio</th>\n",
              "    </tr>\n",
              "  </thead>\n",
              "  <tbody>\n",
              "  </tbody>\n",
              "</table>\n",
              "</div>"
            ],
            "text/plain": [
              "Empty DataFrame\n",
              "Columns: [id, age, gender, height, weight, ap_hi, ap_lo, cholesterol, gluc, smoke, alco, active, cardio]\n",
              "Index: []"
            ]
          },
          "metadata": {
            "tags": []
          },
          "execution_count": 26
        }
      ]
    },
    {
      "cell_type": "markdown",
      "metadata": {
        "id": "mVnnP4KBGT9j"
      },
      "source": [
        "Otro punto a considerar siempre, los máximos y mínimos."
      ]
    },
    {
      "cell_type": "code",
      "metadata": {
        "colab": {
          "base_uri": "https://localhost:8080/"
        },
        "id": "EGorqEVzHgea",
        "outputId": "0aa5b7c7-815a-4110-cc4c-6a71b5a0cefb"
      },
      "source": [
        "df.max()"
      ],
      "execution_count": null,
      "outputs": [
        {
          "output_type": "execute_result",
          "data": {
            "text/plain": [
              "id             99999.0\n",
              "age            23713.0\n",
              "gender             2.0\n",
              "height           250.0\n",
              "weight           200.0\n",
              "ap_hi          14020.0\n",
              "ap_lo          11000.0\n",
              "cholesterol        3.0\n",
              "gluc               3.0\n",
              "smoke              1.0\n",
              "alco               1.0\n",
              "active             1.0\n",
              "cardio             1.0\n",
              "dtype: float64"
            ]
          },
          "metadata": {
            "tags": []
          },
          "execution_count": 27
        }
      ]
    },
    {
      "cell_type": "code",
      "metadata": {
        "colab": {
          "base_uri": "https://localhost:8080/"
        },
        "id": "HGQCAGI5HjWA",
        "outputId": "f9dc1fe0-4da5-4d1f-ba89-2083345fe3b3"
      },
      "source": [
        "df.min()"
      ],
      "execution_count": null,
      "outputs": [
        {
          "output_type": "execute_result",
          "data": {
            "text/plain": [
              "id                 0.0\n",
              "age            10798.0\n",
              "gender             1.0\n",
              "height            55.0\n",
              "weight            10.0\n",
              "ap_hi           -120.0\n",
              "ap_lo            -70.0\n",
              "cholesterol        1.0\n",
              "gluc               1.0\n",
              "smoke              0.0\n",
              "alco               0.0\n",
              "active             0.0\n",
              "cardio             0.0\n",
              "dtype: float64"
            ]
          },
          "metadata": {
            "tags": []
          },
          "execution_count": 28
        }
      ]
    },
    {
      "cell_type": "markdown",
      "metadata": {
        "id": "Wc1S8jG6IdVR"
      },
      "source": [
        "Para eliminar los datos se crean df's filtrados"
      ]
    },
    {
      "cell_type": "code",
      "metadata": {
        "colab": {
          "base_uri": "https://localhost:8080/"
        },
        "id": "qTHqED1DInv5",
        "outputId": "08ed71c3-f4ab-4b6d-aa4e-27376c6b4fe8"
      },
      "source": [
        "df = df[df['ap_hi'] <= 250]\n",
        "df = df[df['ap_lo'] <= 250]\n",
        "df = df[df['ap_hi'] >= 40]\n",
        "df = df[df['ap_lo'] >= 40]\n",
        "df = df[df['weight'] >= 30]\n",
        "df.max() #me genera un nuevo df con los datos filtrados"
      ],
      "execution_count": null,
      "outputs": [
        {
          "output_type": "execute_result",
          "data": {
            "text/plain": [
              "id             99999.0\n",
              "age            23713.0\n",
              "gender             2.0\n",
              "height           250.0\n",
              "weight           200.0\n",
              "ap_hi            240.0\n",
              "ap_lo            190.0\n",
              "cholesterol        3.0\n",
              "gluc               3.0\n",
              "smoke              1.0\n",
              "alco               1.0\n",
              "active             1.0\n",
              "cardio             1.0\n",
              "dtype: float64"
            ]
          },
          "metadata": {
            "tags": []
          },
          "execution_count": 35
        }
      ]
    },
    {
      "cell_type": "code",
      "metadata": {
        "colab": {
          "base_uri": "https://localhost:8080/"
        },
        "id": "LUSNHHl2Jhme",
        "outputId": "1dfed94b-9fac-499f-e5d5-44dfeeae8022"
      },
      "source": [
        "df.min()"
      ],
      "execution_count": null,
      "outputs": [
        {
          "output_type": "execute_result",
          "data": {
            "text/plain": [
              "id                 0.0\n",
              "age            10798.0\n",
              "gender             1.0\n",
              "height            55.0\n",
              "weight            30.0\n",
              "ap_hi             60.0\n",
              "ap_lo             40.0\n",
              "cholesterol        1.0\n",
              "gluc               1.0\n",
              "smoke              0.0\n",
              "alco               0.0\n",
              "active             0.0\n",
              "cardio             0.0\n",
              "dtype: float64"
            ]
          },
          "metadata": {
            "tags": []
          },
          "execution_count": 36
        }
      ]
    },
    {
      "cell_type": "code",
      "metadata": {
        "colab": {
          "base_uri": "https://localhost:8080/"
        },
        "id": "Kh6uQJZiJ266",
        "outputId": "fc75e8d8-31d9-4cc0-a18c-9391c6c3db2b"
      },
      "source": [
        "df.shape"
      ],
      "execution_count": null,
      "outputs": [
        {
          "output_type": "execute_result",
          "data": {
            "text/plain": [
              "(70006, 13)"
            ]
          },
          "metadata": {
            "tags": []
          },
          "execution_count": 139
        }
      ]
    },
    {
      "cell_type": "markdown",
      "metadata": {
        "id": "nfaN6s6VQLsT"
      },
      "source": [
        "**EDA**"
      ]
    },
    {
      "cell_type": "code",
      "metadata": {
        "colab": {
          "base_uri": "https://localhost:8080/",
          "height": 1000
        },
        "id": "9pSgVarvQOaa",
        "outputId": "696f7200-b999-4d74-bd84-28316d1c7b7b"
      },
      "source": [
        "#cargamos nuestros datos\n",
        "import pandas as pd\n",
        "import numpy as np\n",
        "peliculas = pd.read_csv('imdb_top_1000.csv')\n",
        "peliculas"
      ],
      "execution_count": null,
      "outputs": [
        {
          "output_type": "execute_result",
          "data": {
            "text/html": [
              "<div>\n",
              "<style scoped>\n",
              "    .dataframe tbody tr th:only-of-type {\n",
              "        vertical-align: middle;\n",
              "    }\n",
              "\n",
              "    .dataframe tbody tr th {\n",
              "        vertical-align: top;\n",
              "    }\n",
              "\n",
              "    .dataframe thead th {\n",
              "        text-align: right;\n",
              "    }\n",
              "</style>\n",
              "<table border=\"1\" class=\"dataframe\">\n",
              "  <thead>\n",
              "    <tr style=\"text-align: right;\">\n",
              "      <th></th>\n",
              "      <th>Poster_Link</th>\n",
              "      <th>Series_Title</th>\n",
              "      <th>Released_Year</th>\n",
              "      <th>Certificate</th>\n",
              "      <th>Runtime</th>\n",
              "      <th>Genre</th>\n",
              "      <th>IMDB_Rating</th>\n",
              "      <th>Overview</th>\n",
              "      <th>Meta_score</th>\n",
              "      <th>Director</th>\n",
              "      <th>Star1</th>\n",
              "      <th>Star2</th>\n",
              "      <th>Star3</th>\n",
              "      <th>Star4</th>\n",
              "      <th>No_of_Votes</th>\n",
              "      <th>Gross</th>\n",
              "    </tr>\n",
              "  </thead>\n",
              "  <tbody>\n",
              "    <tr>\n",
              "      <th>0</th>\n",
              "      <td>https://m.media-amazon.com/images/M/MV5BMDFkYT...</td>\n",
              "      <td>The Shawshank Redemption</td>\n",
              "      <td>1994</td>\n",
              "      <td>A</td>\n",
              "      <td>142 min</td>\n",
              "      <td>Drama</td>\n",
              "      <td>9.3</td>\n",
              "      <td>Two imprisoned men bond over a number of years...</td>\n",
              "      <td>80.0</td>\n",
              "      <td>Frank Darabont</td>\n",
              "      <td>Tim Robbins</td>\n",
              "      <td>Morgan Freeman</td>\n",
              "      <td>Bob Gunton</td>\n",
              "      <td>William Sadler</td>\n",
              "      <td>2343110</td>\n",
              "      <td>28,341,469</td>\n",
              "    </tr>\n",
              "    <tr>\n",
              "      <th>1</th>\n",
              "      <td>https://m.media-amazon.com/images/M/MV5BM2MyNj...</td>\n",
              "      <td>The Godfather</td>\n",
              "      <td>1972</td>\n",
              "      <td>A</td>\n",
              "      <td>175 min</td>\n",
              "      <td>Crime, Drama</td>\n",
              "      <td>9.2</td>\n",
              "      <td>An organized crime dynasty's aging patriarch t...</td>\n",
              "      <td>100.0</td>\n",
              "      <td>Francis Ford Coppola</td>\n",
              "      <td>Marlon Brando</td>\n",
              "      <td>Al Pacino</td>\n",
              "      <td>James Caan</td>\n",
              "      <td>Diane Keaton</td>\n",
              "      <td>1620367</td>\n",
              "      <td>134,966,411</td>\n",
              "    </tr>\n",
              "    <tr>\n",
              "      <th>2</th>\n",
              "      <td>https://m.media-amazon.com/images/M/MV5BMTMxNT...</td>\n",
              "      <td>The Dark Knight</td>\n",
              "      <td>2008</td>\n",
              "      <td>UA</td>\n",
              "      <td>152 min</td>\n",
              "      <td>Action, Crime, Drama</td>\n",
              "      <td>9.0</td>\n",
              "      <td>When the menace known as the Joker wreaks havo...</td>\n",
              "      <td>84.0</td>\n",
              "      <td>Christopher Nolan</td>\n",
              "      <td>Christian Bale</td>\n",
              "      <td>Heath Ledger</td>\n",
              "      <td>Aaron Eckhart</td>\n",
              "      <td>Michael Caine</td>\n",
              "      <td>2303232</td>\n",
              "      <td>534,858,444</td>\n",
              "    </tr>\n",
              "    <tr>\n",
              "      <th>3</th>\n",
              "      <td>https://m.media-amazon.com/images/M/MV5BMWMwMG...</td>\n",
              "      <td>The Godfather: Part II</td>\n",
              "      <td>1974</td>\n",
              "      <td>A</td>\n",
              "      <td>202 min</td>\n",
              "      <td>Crime, Drama</td>\n",
              "      <td>9.0</td>\n",
              "      <td>The early life and career of Vito Corleone in ...</td>\n",
              "      <td>90.0</td>\n",
              "      <td>Francis Ford Coppola</td>\n",
              "      <td>Al Pacino</td>\n",
              "      <td>Robert De Niro</td>\n",
              "      <td>Robert Duvall</td>\n",
              "      <td>Diane Keaton</td>\n",
              "      <td>1129952</td>\n",
              "      <td>57,300,000</td>\n",
              "    </tr>\n",
              "    <tr>\n",
              "      <th>4</th>\n",
              "      <td>https://m.media-amazon.com/images/M/MV5BMWU4N2...</td>\n",
              "      <td>12 Angry Men</td>\n",
              "      <td>1957</td>\n",
              "      <td>U</td>\n",
              "      <td>96 min</td>\n",
              "      <td>Crime, Drama</td>\n",
              "      <td>9.0</td>\n",
              "      <td>A jury holdout attempts to prevent a miscarria...</td>\n",
              "      <td>96.0</td>\n",
              "      <td>Sidney Lumet</td>\n",
              "      <td>Henry Fonda</td>\n",
              "      <td>Lee J. Cobb</td>\n",
              "      <td>Martin Balsam</td>\n",
              "      <td>John Fiedler</td>\n",
              "      <td>689845</td>\n",
              "      <td>4,360,000</td>\n",
              "    </tr>\n",
              "    <tr>\n",
              "      <th>...</th>\n",
              "      <td>...</td>\n",
              "      <td>...</td>\n",
              "      <td>...</td>\n",
              "      <td>...</td>\n",
              "      <td>...</td>\n",
              "      <td>...</td>\n",
              "      <td>...</td>\n",
              "      <td>...</td>\n",
              "      <td>...</td>\n",
              "      <td>...</td>\n",
              "      <td>...</td>\n",
              "      <td>...</td>\n",
              "      <td>...</td>\n",
              "      <td>...</td>\n",
              "      <td>...</td>\n",
              "      <td>...</td>\n",
              "    </tr>\n",
              "    <tr>\n",
              "      <th>995</th>\n",
              "      <td>https://m.media-amazon.com/images/M/MV5BNGEwMT...</td>\n",
              "      <td>Breakfast at Tiffany's</td>\n",
              "      <td>1961</td>\n",
              "      <td>A</td>\n",
              "      <td>115 min</td>\n",
              "      <td>Comedy, Drama, Romance</td>\n",
              "      <td>7.6</td>\n",
              "      <td>A young New York socialite becomes interested ...</td>\n",
              "      <td>76.0</td>\n",
              "      <td>Blake Edwards</td>\n",
              "      <td>Audrey Hepburn</td>\n",
              "      <td>George Peppard</td>\n",
              "      <td>Patricia Neal</td>\n",
              "      <td>Buddy Ebsen</td>\n",
              "      <td>166544</td>\n",
              "      <td>NaN</td>\n",
              "    </tr>\n",
              "    <tr>\n",
              "      <th>996</th>\n",
              "      <td>https://m.media-amazon.com/images/M/MV5BODk3Yj...</td>\n",
              "      <td>Giant</td>\n",
              "      <td>1956</td>\n",
              "      <td>G</td>\n",
              "      <td>201 min</td>\n",
              "      <td>Drama, Western</td>\n",
              "      <td>7.6</td>\n",
              "      <td>Sprawling epic covering the life of a Texas ca...</td>\n",
              "      <td>84.0</td>\n",
              "      <td>George Stevens</td>\n",
              "      <td>Elizabeth Taylor</td>\n",
              "      <td>Rock Hudson</td>\n",
              "      <td>James Dean</td>\n",
              "      <td>Carroll Baker</td>\n",
              "      <td>34075</td>\n",
              "      <td>NaN</td>\n",
              "    </tr>\n",
              "    <tr>\n",
              "      <th>997</th>\n",
              "      <td>https://m.media-amazon.com/images/M/MV5BM2U3Yz...</td>\n",
              "      <td>From Here to Eternity</td>\n",
              "      <td>1953</td>\n",
              "      <td>Passed</td>\n",
              "      <td>118 min</td>\n",
              "      <td>Drama, Romance, War</td>\n",
              "      <td>7.6</td>\n",
              "      <td>In Hawaii in 1941, a private is cruelly punish...</td>\n",
              "      <td>85.0</td>\n",
              "      <td>Fred Zinnemann</td>\n",
              "      <td>Burt Lancaster</td>\n",
              "      <td>Montgomery Clift</td>\n",
              "      <td>Deborah Kerr</td>\n",
              "      <td>Donna Reed</td>\n",
              "      <td>43374</td>\n",
              "      <td>30,500,000</td>\n",
              "    </tr>\n",
              "    <tr>\n",
              "      <th>998</th>\n",
              "      <td>https://m.media-amazon.com/images/M/MV5BZTBmMj...</td>\n",
              "      <td>Lifeboat</td>\n",
              "      <td>1944</td>\n",
              "      <td>NaN</td>\n",
              "      <td>97 min</td>\n",
              "      <td>Drama, War</td>\n",
              "      <td>7.6</td>\n",
              "      <td>Several survivors of a torpedoed merchant ship...</td>\n",
              "      <td>78.0</td>\n",
              "      <td>Alfred Hitchcock</td>\n",
              "      <td>Tallulah Bankhead</td>\n",
              "      <td>John Hodiak</td>\n",
              "      <td>Walter Slezak</td>\n",
              "      <td>William Bendix</td>\n",
              "      <td>26471</td>\n",
              "      <td>NaN</td>\n",
              "    </tr>\n",
              "    <tr>\n",
              "      <th>999</th>\n",
              "      <td>https://m.media-amazon.com/images/M/MV5BMTY5OD...</td>\n",
              "      <td>The 39 Steps</td>\n",
              "      <td>1935</td>\n",
              "      <td>NaN</td>\n",
              "      <td>86 min</td>\n",
              "      <td>Crime, Mystery, Thriller</td>\n",
              "      <td>7.6</td>\n",
              "      <td>A man in London tries to help a counter-espion...</td>\n",
              "      <td>93.0</td>\n",
              "      <td>Alfred Hitchcock</td>\n",
              "      <td>Robert Donat</td>\n",
              "      <td>Madeleine Carroll</td>\n",
              "      <td>Lucie Mannheim</td>\n",
              "      <td>Godfrey Tearle</td>\n",
              "      <td>51853</td>\n",
              "      <td>NaN</td>\n",
              "    </tr>\n",
              "  </tbody>\n",
              "</table>\n",
              "<p>1000 rows × 16 columns</p>\n",
              "</div>"
            ],
            "text/plain": [
              "                                           Poster_Link  ...        Gross\n",
              "0    https://m.media-amazon.com/images/M/MV5BMDFkYT...  ...   28,341,469\n",
              "1    https://m.media-amazon.com/images/M/MV5BM2MyNj...  ...  134,966,411\n",
              "2    https://m.media-amazon.com/images/M/MV5BMTMxNT...  ...  534,858,444\n",
              "3    https://m.media-amazon.com/images/M/MV5BMWMwMG...  ...   57,300,000\n",
              "4    https://m.media-amazon.com/images/M/MV5BMWU4N2...  ...    4,360,000\n",
              "..                                                 ...  ...          ...\n",
              "995  https://m.media-amazon.com/images/M/MV5BNGEwMT...  ...          NaN\n",
              "996  https://m.media-amazon.com/images/M/MV5BODk3Yj...  ...          NaN\n",
              "997  https://m.media-amazon.com/images/M/MV5BM2U3Yz...  ...   30,500,000\n",
              "998  https://m.media-amazon.com/images/M/MV5BZTBmMj...  ...          NaN\n",
              "999  https://m.media-amazon.com/images/M/MV5BMTY5OD...  ...          NaN\n",
              "\n",
              "[1000 rows x 16 columns]"
            ]
          },
          "metadata": {},
          "execution_count": 2
        }
      ]
    },
    {
      "cell_type": "code",
      "metadata": {
        "colab": {
          "base_uri": "https://localhost:8080/"
        },
        "id": "M-W0xXZmkZB_",
        "outputId": "2e4936f0-0388-4272-8e21-fc6dbbf2a3ed"
      },
      "source": [
        "peliculas.shape"
      ],
      "execution_count": null,
      "outputs": [
        {
          "output_type": "execute_result",
          "data": {
            "text/plain": [
              "(1000, 16)"
            ]
          },
          "metadata": {},
          "execution_count": 3
        }
      ]
    },
    {
      "cell_type": "markdown",
      "metadata": {
        "id": "0lNMeXj7U8Rk"
      },
      "source": [
        "Al momento de hacer un EDA tenemos que fijarnos en distintos datos: medias, modas, medianas, etc..., en este caso lo más útil es usar describe()"
      ]
    },
    {
      "cell_type": "code",
      "metadata": {
        "colab": {
          "base_uri": "https://localhost:8080/"
        },
        "id": "C_DwtqZDWJc4",
        "outputId": "de500ad7-af91-4a28-8fe9-dd48d6ed3555"
      },
      "source": [
        "ratings = peliculas['IMDB_Rating']\n",
        "ratings.describe()"
      ],
      "execution_count": null,
      "outputs": [
        {
          "output_type": "execute_result",
          "data": {
            "text/plain": [
              "count    1000.000000\n",
              "mean        7.949300\n",
              "std         0.275491\n",
              "min         7.600000\n",
              "25%         7.700000\n",
              "50%         7.900000\n",
              "75%         8.100000\n",
              "max         9.300000\n",
              "Name: IMDB_Rating, dtype: float64"
            ]
          },
          "metadata": {},
          "execution_count": 4
        }
      ]
    },
    {
      "cell_type": "code",
      "metadata": {
        "id": "m9ts_x5Ti-Dy"
      },
      "source": [
        ""
      ],
      "execution_count": null,
      "outputs": []
    },
    {
      "cell_type": "code",
      "metadata": {
        "colab": {
          "base_uri": "https://localhost:8080/"
        },
        "id": "4dwFd4alVIuh",
        "outputId": "b00894a7-d457-4f84-e490-bd87dde7e732"
      },
      "source": [
        "ratings.mean()"
      ],
      "execution_count": null,
      "outputs": [
        {
          "output_type": "execute_result",
          "data": {
            "text/plain": [
              "7.949300000000012"
            ]
          },
          "metadata": {},
          "execution_count": 5
        }
      ]
    },
    {
      "cell_type": "code",
      "metadata": {
        "colab": {
          "base_uri": "https://localhost:8080/"
        },
        "id": "B2hi4CqfjKG0",
        "outputId": "3dc84c07-8f89-4b42-fa47-dd769e3e9a3d"
      },
      "source": [
        "ratings.std()"
      ],
      "execution_count": null,
      "outputs": [
        {
          "output_type": "execute_result",
          "data": {
            "text/plain": [
              "0.27549120749200917"
            ]
          },
          "metadata": {},
          "execution_count": 6
        }
      ]
    },
    {
      "cell_type": "code",
      "metadata": {
        "colab": {
          "base_uri": "https://localhost:8080/"
        },
        "id": "pamo_MU8jQR-",
        "outputId": "fd4b0c82-1e6d-4540-9d30-df505795931a"
      },
      "source": [
        "ratings.mode()"
      ],
      "execution_count": null,
      "outputs": [
        {
          "output_type": "execute_result",
          "data": {
            "text/plain": [
              "0    7.7\n",
              "dtype: float64"
            ]
          },
          "metadata": {},
          "execution_count": 7
        }
      ]
    },
    {
      "cell_type": "code",
      "metadata": {
        "colab": {
          "base_uri": "https://localhost:8080/"
        },
        "id": "zN_GC06MjXY8",
        "outputId": "7048ec72-c645-436a-8559-79595427ffe5"
      },
      "source": [
        "ratings.median()"
      ],
      "execution_count": null,
      "outputs": [
        {
          "output_type": "execute_result",
          "data": {
            "text/plain": [
              "7.9"
            ]
          },
          "metadata": {},
          "execution_count": 8
        }
      ]
    },
    {
      "cell_type": "code",
      "metadata": {
        "colab": {
          "base_uri": "https://localhost:8080/"
        },
        "id": "J4-PTn5Ojb-n",
        "outputId": "7e1c2da0-a373-4c97-d583-b76ee1209f59"
      },
      "source": [
        "ratings.quantile(0.8) #el valor da el porcentaje deseado"
      ],
      "execution_count": null,
      "outputs": [
        {
          "output_type": "execute_result",
          "data": {
            "text/plain": [
              "8.1"
            ]
          },
          "metadata": {},
          "execution_count": 9
        }
      ]
    },
    {
      "cell_type": "code",
      "metadata": {
        "colab": {
          "base_uri": "https://localhost:8080/"
        },
        "id": "SVatioR2nnAS",
        "outputId": "2c2f7a26-6579-4351-cb29-1f33ccd80a74"
      },
      "source": [
        "ratings.skew() #oblicuidad"
      ],
      "execution_count": null,
      "outputs": [
        {
          "output_type": "execute_result",
          "data": {
            "text/plain": [
              "1.016964453611272"
            ]
          },
          "metadata": {},
          "execution_count": 10
        }
      ]
    },
    {
      "cell_type": "markdown",
      "metadata": {
        "id": "aI9FFAvbn2Ww"
      },
      "source": [
        "![image.png](data:image/png;base64,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)"
      ]
    },
    {
      "cell_type": "code",
      "metadata": {
        "colab": {
          "base_uri": "https://localhost:8080/"
        },
        "id": "XeG0c5Lcn8oM",
        "outputId": "cffb6488-f979-47fa-9024-fed8f18b3a47"
      },
      "source": [
        "peliculas.groupby(peliculas['Star1']).size().sort_values(ascending=False)"
      ],
      "execution_count": null,
      "outputs": [
        {
          "output_type": "execute_result",
          "data": {
            "text/plain": [
              "Star1\n",
              "Tom Hanks           12\n",
              "Robert De Niro      11\n",
              "Clint Eastwood      10\n",
              "Al Pacino           10\n",
              "Humphrey Bogart      9\n",
              "                    ..\n",
              "Mario Casas          1\n",
              "Marion Cotillard     1\n",
              "Marjane Satrapi      1\n",
              "Martin Freeman       1\n",
              "Jonathan Pryce       1\n",
              "Length: 660, dtype: int64"
            ]
          },
          "metadata": {},
          "execution_count": 11
        }
      ]
    },
    {
      "cell_type": "code",
      "metadata": {
        "colab": {
          "base_uri": "https://localhost:8080/"
        },
        "id": "kOMg-8dkCcQu",
        "outputId": "8c159bd1-fa1a-4a3a-a5ad-e071f47aa4f6"
      },
      "source": [
        "peliculas.groupby(peliculas['Released_Year']).size().sort_values(ascending=False)"
      ],
      "execution_count": null,
      "outputs": [
        {
          "output_type": "execute_result",
          "data": {
            "text/plain": [
              "Released_Year\n",
              "2014    32\n",
              "2004    31\n",
              "2009    29\n",
              "2016    28\n",
              "2013    28\n",
              "        ..\n",
              "1930     1\n",
              "1936     1\n",
              "1937     1\n",
              "1943     1\n",
              "1920     1\n",
              "Length: 100, dtype: int64"
            ]
          },
          "metadata": {},
          "execution_count": 12
        }
      ]
    },
    {
      "cell_type": "code",
      "metadata": {
        "colab": {
          "base_uri": "https://localhost:8080/"
        },
        "id": "SV3A-l0CCsoc",
        "outputId": "1ba1eb8e-fd1a-4699-b7d5-455e6dbb9e49"
      },
      "source": [
        "peliculas.groupby(peliculas['Released_Year'])['Gross'].sum().sort_values(ascending=False)"
      ],
      "execution_count": 24,
      "outputs": [
        {
          "output_type": "execute_result",
          "data": {
            "text/plain": [
              "Released_Year\n",
              "2009.0    2937170585\n",
              "2014.0    2755629221\n",
              "2018.0    2607757362\n",
              "2016.0    2595557425\n",
              "2012.0    2542616037\n",
              "             ...    \n",
              "1922.0             0\n",
              "2020.0             0\n",
              "1932.0             0\n",
              "1943.0             0\n",
              "1920.0             0\n",
              "Name: Gross, Length: 99, dtype: int64"
            ]
          },
          "metadata": {},
          "execution_count": 24
        }
      ]
    },
    {
      "cell_type": "markdown",
      "metadata": {
        "id": "L_zZhK6pyHlG"
      },
      "source": [
        "Arreglar el Gross"
      ]
    },
    {
      "cell_type": "code",
      "metadata": {
        "colab": {
          "base_uri": "https://localhost:8080/"
        },
        "id": "TJXiloX1zfuu",
        "outputId": "c59d8df3-3d7a-4a92-bd39-8cd8a5186e69"
      },
      "source": [
        "peliculas['Gross'] = peliculas['Gross'].replace({',': ''}, regex=True)\n",
        "peliculas['Gross']"
      ],
      "execution_count": null,
      "outputs": [
        {
          "output_type": "execute_result",
          "data": {
            "text/plain": [
              "0       28341469\n",
              "1      134966411\n",
              "2      534858444\n",
              "3       57300000\n",
              "4        4360000\n",
              "         ...    \n",
              "995          NaN\n",
              "996          NaN\n",
              "997     30500000\n",
              "998          NaN\n",
              "999          NaN\n",
              "Name: Gross, Length: 1000, dtype: object"
            ]
          },
          "metadata": {},
          "execution_count": 14
        }
      ]
    },
    {
      "cell_type": "code",
      "metadata": {
        "colab": {
          "base_uri": "https://localhost:8080/"
        },
        "id": "1pzwfK8fzxrH",
        "outputId": "e862e32d-0926-4043-92a5-bc594c98426c"
      },
      "source": [
        "peliculas['Gross'] = peliculas['Gross'].replace(np.nan, 0)\n",
        "peliculas['Gross'] = peliculas['Gross'].astype(int)\n",
        "peliculas['Gross'].describe()"
      ],
      "execution_count": null,
      "outputs": [
        {
          "output_type": "execute_result",
          "data": {
            "text/plain": [
              "count    1.000000e+03\n",
              "mean     5.653688e+07\n",
              "std      1.032382e+08\n",
              "min      0.000000e+00\n",
              "25%      4.457098e+05\n",
              "50%      1.070275e+07\n",
              "75%      6.153989e+07\n",
              "max      9.366622e+08\n",
              "Name: Gross, dtype: float64"
            ]
          },
          "metadata": {},
          "execution_count": 15
        }
      ]
    },
    {
      "cell_type": "code",
      "metadata": {
        "colab": {
          "base_uri": "https://localhost:8080/",
          "height": 1000
        },
        "id": "QfvvO4uH0abG",
        "outputId": "aca1c559-cf89-4091-9f65-7f406694e8c6"
      },
      "source": [
        "peliculas.sort_values(by='Gross', ascending=False)"
      ],
      "execution_count": null,
      "outputs": [
        {
          "output_type": "execute_result",
          "data": {
            "text/html": [
              "<div>\n",
              "<style scoped>\n",
              "    .dataframe tbody tr th:only-of-type {\n",
              "        vertical-align: middle;\n",
              "    }\n",
              "\n",
              "    .dataframe tbody tr th {\n",
              "        vertical-align: top;\n",
              "    }\n",
              "\n",
              "    .dataframe thead th {\n",
              "        text-align: right;\n",
              "    }\n",
              "</style>\n",
              "<table border=\"1\" class=\"dataframe\">\n",
              "  <thead>\n",
              "    <tr style=\"text-align: right;\">\n",
              "      <th></th>\n",
              "      <th>Poster_Link</th>\n",
              "      <th>Series_Title</th>\n",
              "      <th>Released_Year</th>\n",
              "      <th>Certificate</th>\n",
              "      <th>Runtime</th>\n",
              "      <th>Genre</th>\n",
              "      <th>IMDB_Rating</th>\n",
              "      <th>Overview</th>\n",
              "      <th>Meta_score</th>\n",
              "      <th>Director</th>\n",
              "      <th>Star1</th>\n",
              "      <th>Star2</th>\n",
              "      <th>Star3</th>\n",
              "      <th>Star4</th>\n",
              "      <th>No_of_Votes</th>\n",
              "      <th>Gross</th>\n",
              "    </tr>\n",
              "  </thead>\n",
              "  <tbody>\n",
              "    <tr>\n",
              "      <th>477</th>\n",
              "      <td>https://m.media-amazon.com/images/M/MV5BOTAzOD...</td>\n",
              "      <td>Star Wars: Episode VII - The Force Awakens</td>\n",
              "      <td>2015</td>\n",
              "      <td>U</td>\n",
              "      <td>138 min</td>\n",
              "      <td>Action, Adventure, Sci-Fi</td>\n",
              "      <td>7.9</td>\n",
              "      <td>As a new threat to the galaxy rises, Rey, a de...</td>\n",
              "      <td>80.0</td>\n",
              "      <td>J.J. Abrams</td>\n",
              "      <td>Daisy Ridley</td>\n",
              "      <td>John Boyega</td>\n",
              "      <td>Oscar Isaac</td>\n",
              "      <td>Domhnall Gleeson</td>\n",
              "      <td>860823</td>\n",
              "      <td>936662225</td>\n",
              "    </tr>\n",
              "    <tr>\n",
              "      <th>59</th>\n",
              "      <td>https://m.media-amazon.com/images/M/MV5BMTc5MD...</td>\n",
              "      <td>Avengers: Endgame</td>\n",
              "      <td>2019</td>\n",
              "      <td>UA</td>\n",
              "      <td>181 min</td>\n",
              "      <td>Action, Adventure, Drama</td>\n",
              "      <td>8.4</td>\n",
              "      <td>After the devastating events of Avengers: Infi...</td>\n",
              "      <td>78.0</td>\n",
              "      <td>Anthony Russo</td>\n",
              "      <td>Joe Russo</td>\n",
              "      <td>Robert Downey Jr.</td>\n",
              "      <td>Chris Evans</td>\n",
              "      <td>Mark Ruffalo</td>\n",
              "      <td>809955</td>\n",
              "      <td>858373000</td>\n",
              "    </tr>\n",
              "    <tr>\n",
              "      <th>623</th>\n",
              "      <td>https://m.media-amazon.com/images/M/MV5BMTYwOT...</td>\n",
              "      <td>Avatar</td>\n",
              "      <td>2009</td>\n",
              "      <td>UA</td>\n",
              "      <td>162 min</td>\n",
              "      <td>Action, Adventure, Fantasy</td>\n",
              "      <td>7.8</td>\n",
              "      <td>A paraplegic Marine dispatched to the moon Pan...</td>\n",
              "      <td>83.0</td>\n",
              "      <td>James Cameron</td>\n",
              "      <td>Sam Worthington</td>\n",
              "      <td>Zoe Saldana</td>\n",
              "      <td>Sigourney Weaver</td>\n",
              "      <td>Michelle Rodriguez</td>\n",
              "      <td>1118998</td>\n",
              "      <td>760507625</td>\n",
              "    </tr>\n",
              "    <tr>\n",
              "      <th>60</th>\n",
              "      <td>https://m.media-amazon.com/images/M/MV5BMjMxNj...</td>\n",
              "      <td>Avengers: Infinity War</td>\n",
              "      <td>2018</td>\n",
              "      <td>UA</td>\n",
              "      <td>149 min</td>\n",
              "      <td>Action, Adventure, Sci-Fi</td>\n",
              "      <td>8.4</td>\n",
              "      <td>The Avengers and their allies must be willing ...</td>\n",
              "      <td>68.0</td>\n",
              "      <td>Anthony Russo</td>\n",
              "      <td>Joe Russo</td>\n",
              "      <td>Robert Downey Jr.</td>\n",
              "      <td>Chris Hemsworth</td>\n",
              "      <td>Mark Ruffalo</td>\n",
              "      <td>834477</td>\n",
              "      <td>678815482</td>\n",
              "    </tr>\n",
              "    <tr>\n",
              "      <th>652</th>\n",
              "      <td>https://m.media-amazon.com/images/M/MV5BMDdmZG...</td>\n",
              "      <td>Titanic</td>\n",
              "      <td>1997</td>\n",
              "      <td>UA</td>\n",
              "      <td>194 min</td>\n",
              "      <td>Drama, Romance</td>\n",
              "      <td>7.8</td>\n",
              "      <td>A seventeen-year-old aristocrat falls in love ...</td>\n",
              "      <td>75.0</td>\n",
              "      <td>James Cameron</td>\n",
              "      <td>Leonardo DiCaprio</td>\n",
              "      <td>Kate Winslet</td>\n",
              "      <td>Billy Zane</td>\n",
              "      <td>Kathy Bates</td>\n",
              "      <td>1046089</td>\n",
              "      <td>659325379</td>\n",
              "    </tr>\n",
              "    <tr>\n",
              "      <th>...</th>\n",
              "      <td>...</td>\n",
              "      <td>...</td>\n",
              "      <td>...</td>\n",
              "      <td>...</td>\n",
              "      <td>...</td>\n",
              "      <td>...</td>\n",
              "      <td>...</td>\n",
              "      <td>...</td>\n",
              "      <td>...</td>\n",
              "      <td>...</td>\n",
              "      <td>...</td>\n",
              "      <td>...</td>\n",
              "      <td>...</td>\n",
              "      <td>...</td>\n",
              "      <td>...</td>\n",
              "      <td>...</td>\n",
              "    </tr>\n",
              "    <tr>\n",
              "      <th>540</th>\n",
              "      <td>https://m.media-amazon.com/images/M/MV5BMjRkY2...</td>\n",
              "      <td>Aguirre, der Zorn Gottes</td>\n",
              "      <td>1972</td>\n",
              "      <td>NaN</td>\n",
              "      <td>95 min</td>\n",
              "      <td>Action, Adventure, Biography</td>\n",
              "      <td>7.9</td>\n",
              "      <td>In the 16th century, the ruthless and insane D...</td>\n",
              "      <td>NaN</td>\n",
              "      <td>Werner Herzog</td>\n",
              "      <td>Klaus Kinski</td>\n",
              "      <td>Ruy Guerra</td>\n",
              "      <td>Helena Rojo</td>\n",
              "      <td>Del Negro</td>\n",
              "      <td>52397</td>\n",
              "      <td>0</td>\n",
              "    </tr>\n",
              "    <tr>\n",
              "      <th>538</th>\n",
              "      <td>https://m.media-amazon.com/images/M/MV5BZDI2OT...</td>\n",
              "      <td>Amarcord</td>\n",
              "      <td>1973</td>\n",
              "      <td>R</td>\n",
              "      <td>123 min</td>\n",
              "      <td>Comedy, Drama, Family</td>\n",
              "      <td>7.9</td>\n",
              "      <td>A series of comedic and nostalgic vignettes se...</td>\n",
              "      <td>NaN</td>\n",
              "      <td>Federico Fellini</td>\n",
              "      <td>Magali Noël</td>\n",
              "      <td>Bruno Zanin</td>\n",
              "      <td>Pupella Maggio</td>\n",
              "      <td>Armando Brancia</td>\n",
              "      <td>39897</td>\n",
              "      <td>0</td>\n",
              "    </tr>\n",
              "    <tr>\n",
              "      <th>522</th>\n",
              "      <td>https://m.media-amazon.com/images/M/MV5BOTMyZG...</td>\n",
              "      <td>Jûbê ninpûchô</td>\n",
              "      <td>1993</td>\n",
              "      <td>A</td>\n",
              "      <td>94 min</td>\n",
              "      <td>Animation, Action, Adventure</td>\n",
              "      <td>7.9</td>\n",
              "      <td>A vagabond swordsman is aided by a beautiful n...</td>\n",
              "      <td>NaN</td>\n",
              "      <td>Yoshiaki Kawajiri</td>\n",
              "      <td>Kôichi Yamadera</td>\n",
              "      <td>Emi Shinohara</td>\n",
              "      <td>Takeshi Aono</td>\n",
              "      <td>Osamu Saka</td>\n",
              "      <td>34529</td>\n",
              "      <td>0</td>\n",
              "    </tr>\n",
              "    <tr>\n",
              "      <th>518</th>\n",
              "      <td>https://m.media-amazon.com/images/M/MV5BZDg0MW...</td>\n",
              "      <td>Mimi wo sumaseba</td>\n",
              "      <td>1995</td>\n",
              "      <td>U</td>\n",
              "      <td>111 min</td>\n",
              "      <td>Animation, Drama, Family</td>\n",
              "      <td>7.9</td>\n",
              "      <td>A love story between a girl who loves reading ...</td>\n",
              "      <td>75.0</td>\n",
              "      <td>Yoshifumi Kondô</td>\n",
              "      <td>Yoko Honna</td>\n",
              "      <td>Issey Takahashi</td>\n",
              "      <td>Takashi Tachibana</td>\n",
              "      <td>Shigeru Muroi</td>\n",
              "      <td>51943</td>\n",
              "      <td>0</td>\n",
              "    </tr>\n",
              "    <tr>\n",
              "      <th>999</th>\n",
              "      <td>https://m.media-amazon.com/images/M/MV5BMTY5OD...</td>\n",
              "      <td>The 39 Steps</td>\n",
              "      <td>1935</td>\n",
              "      <td>NaN</td>\n",
              "      <td>86 min</td>\n",
              "      <td>Crime, Mystery, Thriller</td>\n",
              "      <td>7.6</td>\n",
              "      <td>A man in London tries to help a counter-espion...</td>\n",
              "      <td>93.0</td>\n",
              "      <td>Alfred Hitchcock</td>\n",
              "      <td>Robert Donat</td>\n",
              "      <td>Madeleine Carroll</td>\n",
              "      <td>Lucie Mannheim</td>\n",
              "      <td>Godfrey Tearle</td>\n",
              "      <td>51853</td>\n",
              "      <td>0</td>\n",
              "    </tr>\n",
              "  </tbody>\n",
              "</table>\n",
              "<p>1000 rows × 16 columns</p>\n",
              "</div>"
            ],
            "text/plain": [
              "                                           Poster_Link  ...      Gross\n",
              "477  https://m.media-amazon.com/images/M/MV5BOTAzOD...  ...  936662225\n",
              "59   https://m.media-amazon.com/images/M/MV5BMTc5MD...  ...  858373000\n",
              "623  https://m.media-amazon.com/images/M/MV5BMTYwOT...  ...  760507625\n",
              "60   https://m.media-amazon.com/images/M/MV5BMjMxNj...  ...  678815482\n",
              "652  https://m.media-amazon.com/images/M/MV5BMDdmZG...  ...  659325379\n",
              "..                                                 ...  ...        ...\n",
              "540  https://m.media-amazon.com/images/M/MV5BMjRkY2...  ...          0\n",
              "538  https://m.media-amazon.com/images/M/MV5BZDI2OT...  ...          0\n",
              "522  https://m.media-amazon.com/images/M/MV5BOTMyZG...  ...          0\n",
              "518  https://m.media-amazon.com/images/M/MV5BZDg0MW...  ...          0\n",
              "999  https://m.media-amazon.com/images/M/MV5BMTY5OD...  ...          0\n",
              "\n",
              "[1000 rows x 16 columns]"
            ]
          },
          "metadata": {},
          "execution_count": 16
        }
      ]
    },
    {
      "cell_type": "code",
      "metadata": {
        "colab": {
          "base_uri": "https://localhost:8080/"
        },
        "id": "DZnwCYihC11V",
        "outputId": "ef1e9301-9479-494d-c9ab-2251360fc12a"
      },
      "source": [
        "#Ya se puede hacer bien el groupby\n",
        "peliculas.groupby(peliculas['Released_Year'])['Gross'].sum().sort_values(ascending=False)"
      ],
      "execution_count": null,
      "outputs": [
        {
          "output_type": "execute_result",
          "data": {
            "text/plain": [
              "Released_Year\n",
              "2009.0    2937170585\n",
              "2014.0    2755629221\n",
              "2018.0    2607757362\n",
              "2016.0    2595557425\n",
              "2012.0    2542616037\n",
              "             ...    \n",
              "1922.0             0\n",
              "2020.0             0\n",
              "1932.0             0\n",
              "1943.0             0\n",
              "1920.0             0\n",
              "Name: Gross, Length: 99, dtype: int64"
            ]
          },
          "metadata": {
            "tags": []
          },
          "execution_count": 143
        }
      ]
    },
    {
      "cell_type": "markdown",
      "metadata": {
        "id": "4RHklFTU4z5e"
      },
      "source": [
        "Respondamos las siguientes preguntas:\n",
        "\n",
        "1. Cual es la ganacia promedio de las películas\n",
        "6. En qué año se terminaron de publicar el 80% de las películas de esta lista?\n",
        "4. Cual es el rating que más se repite entre las películas\n",
        "7. Cuales datos numéricos tienen asimetría positiva y cuales negativa\n",
        "1. Quienes son los 5 directores que más dinero han ganado con sus películas\n",
        "2. Quienes son los 5 directores que han dirigido más películas\n",
        "3. Cual es la media de ganancia que tienen el top 40 de películas\n",
        "1. Si el rating promedio de un actor es el promedio de los ratings de las películas en las que ha aparecido, cuales son los 15 actores principales ('Star1') con mejor rating? y cuales son los 15 peores de la lista?\n",
        "\n",
        "**CONSIDEREN QUE ESTAS SON LAS 1000 PELÍCULAS CON MEJORES RANKINGS EN IMDB**\n",
        "\n"
      ]
    },
    {
      "cell_type": "markdown",
      "metadata": {
        "id": "lGj1V-CN69i-"
      },
      "source": [
        "Pregunta 1:\n"
      ]
    },
    {
      "cell_type": "code",
      "metadata": {
        "colab": {
          "base_uri": "https://localhost:8080/"
        },
        "id": "dbMdKG0M63-T",
        "outputId": "830babac-fe0c-4c8f-aa2f-92e509e906a4"
      },
      "source": [
        "peliculas['Gross'].mean()"
      ],
      "execution_count": null,
      "outputs": [
        {
          "output_type": "execute_result",
          "data": {
            "text/plain": [
              "56536877.976"
            ]
          },
          "metadata": {
            "tags": []
          },
          "execution_count": 114
        }
      ]
    },
    {
      "cell_type": "markdown",
      "metadata": {
        "id": "5Qcs-T5A7BRh"
      },
      "source": [
        "Pregunta 2:"
      ]
    },
    {
      "cell_type": "code",
      "metadata": {
        "id": "BNYYq1ab7C7f"
      },
      "source": [
        "peliculas['Released_Year'] = pd.to_numeric(peliculas['Released_Year'], errors='coerce')"
      ],
      "execution_count": null,
      "outputs": []
    },
    {
      "cell_type": "code",
      "metadata": {
        "colab": {
          "base_uri": "https://localhost:8080/"
        },
        "id": "SPf9OlUh7k94",
        "outputId": "a9f4e35e-6c67-487b-b1f0-550b4fc00710"
      },
      "source": [
        "peliculas['Released_Year'].quantile(0.8)"
      ],
      "execution_count": 25,
      "outputs": [
        {
          "output_type": "execute_result",
          "data": {
            "text/plain": [
              "2012.0"
            ]
          },
          "metadata": {},
          "execution_count": 25
        }
      ]
    },
    {
      "cell_type": "markdown",
      "metadata": {
        "id": "fXL3lLBr8QJE"
      },
      "source": [
        "Pregunta 3:"
      ]
    },
    {
      "cell_type": "code",
      "metadata": {
        "colab": {
          "base_uri": "https://localhost:8080/"
        },
        "id": "gbtTNQkd8UGl",
        "outputId": "bce4f7e7-7b55-4f48-9c1d-6addb06d59f7"
      },
      "source": [
        "peliculas['IMDB_Rating'].mode()"
      ],
      "execution_count": null,
      "outputs": [
        {
          "output_type": "execute_result",
          "data": {
            "text/plain": [
              "0    7.7\n",
              "dtype: float64"
            ]
          },
          "metadata": {
            "tags": []
          },
          "execution_count": 122
        }
      ]
    },
    {
      "cell_type": "markdown",
      "metadata": {
        "id": "t5cRckTb8aeN"
      },
      "source": [
        "Pregunta 4:"
      ]
    },
    {
      "cell_type": "code",
      "metadata": {
        "colab": {
          "base_uri": "https://localhost:8080/"
        },
        "id": "w_7tRpfo8b7x",
        "outputId": "9db50687-bbe2-4c94-a93a-2437dd74f62e"
      },
      "source": [
        "peliculas.skew()"
      ],
      "execution_count": null,
      "outputs": [
        {
          "output_type": "execute_result",
          "data": {
            "text/plain": [
              "Released_Year   -0.939347\n",
              "IMDB_Rating      1.016964\n",
              "Meta_score      -0.605225\n",
              "No_of_Votes      2.300011\n",
              "Gross            3.410800\n",
              "dtype: float64"
            ]
          },
          "metadata": {
            "tags": []
          },
          "execution_count": 123
        }
      ]
    },
    {
      "cell_type": "markdown",
      "metadata": {
        "id": "nGqp430d8vlK"
      },
      "source": [
        "Pregunta 5:"
      ]
    },
    {
      "cell_type": "code",
      "metadata": {
        "colab": {
          "base_uri": "https://localhost:8080/"
        },
        "id": "MCA5hFkD8xSW",
        "outputId": "33929ffd-f6d4-4d1d-a01b-032cd858287a"
      },
      "source": [
        "peliculas.groupby(peliculas['Director'])['Gross'].sum().sort_values(ascending=False).head(5)"
      ],
      "execution_count": null,
      "outputs": [
        {
          "output_type": "execute_result",
          "data": {
            "text/plain": [
              "Director\n",
              "Steven Spielberg     2478133165\n",
              "Anthony Russo        2205039403\n",
              "Christopher Nolan    1937454106\n",
              "James Cameron        1748236602\n",
              "Peter Jackson        1597312443\n",
              "Name: Gross, dtype: int64"
            ]
          },
          "metadata": {
            "tags": []
          },
          "execution_count": 125
        }
      ]
    },
    {
      "cell_type": "markdown",
      "metadata": {
        "id": "b15sttLi9G1r"
      },
      "source": [
        "Pregunta 6:"
      ]
    },
    {
      "cell_type": "code",
      "metadata": {
        "colab": {
          "base_uri": "https://localhost:8080/"
        },
        "id": "GnSitf0n9ILn",
        "outputId": "313409e3-3948-4280-d6b6-2169e95cd34c"
      },
      "source": [
        "peliculas.groupby(peliculas['Director']).size().sort_values(ascending=False).head(5)"
      ],
      "execution_count": null,
      "outputs": [
        {
          "output_type": "execute_result",
          "data": {
            "text/plain": [
              "Director\n",
              "Alfred Hitchcock    14\n",
              "Steven Spielberg    13\n",
              "Hayao Miyazaki      11\n",
              "Martin Scorsese     10\n",
              "Akira Kurosawa      10\n",
              "dtype: int64"
            ]
          },
          "metadata": {
            "tags": []
          },
          "execution_count": 126
        }
      ]
    },
    {
      "cell_type": "markdown",
      "metadata": {
        "id": "zF0_hinF9jE8"
      },
      "source": [
        "Pregunta 7:"
      ]
    },
    {
      "cell_type": "code",
      "metadata": {
        "colab": {
          "base_uri": "https://localhost:8080/"
        },
        "id": "lBun5l969xKw",
        "outputId": "5b6fcbe1-063b-488b-b79d-e2c6bb58eb23"
      },
      "source": [
        "top40 = peliculas.head(40)\n",
        "top40['Gross'].mean()"
      ],
      "execution_count": null,
      "outputs": [
        {
          "output_type": "execute_result",
          "data": {
            "text/plain": [
              "131966225.225"
            ]
          },
          "metadata": {
            "tags": []
          },
          "execution_count": 128
        }
      ]
    },
    {
      "cell_type": "markdown",
      "metadata": {
        "id": "HG4afIJw-BoF"
      },
      "source": [
        "Pregunta 8:"
      ]
    },
    {
      "cell_type": "code",
      "metadata": {
        "colab": {
          "base_uri": "https://localhost:8080/"
        },
        "id": "sXGRw6uw-ja3",
        "outputId": "ac5dfafc-033f-40ac-91df-1b40b6787b38"
      },
      "source": [
        "peliculas.groupby(peliculas['Star1'])['IMDB_Rating'].mean().sort_values(ascending=False).head(15)"
      ],
      "execution_count": null,
      "outputs": [
        {
          "output_type": "execute_result",
          "data": {
            "text/plain": [
              "Star1\n",
              "Tim Robbins           9.300000\n",
              "John Travolta         8.900000\n",
              "Elijah Wood           8.800000\n",
              "Lilly Wachowski       8.700000\n",
              "Marlon Brando         8.650000\n",
              "Jodie Foster          8.600000\n",
              "Kátia Lund            8.600000\n",
              "Lin-Manuel Miranda    8.600000\n",
              "Suriya                8.600000\n",
              "Roberto Benigni       8.600000\n",
              "Daveigh Chase         8.600000\n",
              "Mark Hamill           8.533333\n",
              "Tsutomu Tatsumi       8.500000\n",
              "Anthony Perkins       8.500000\n",
              "Éric Toledano         8.500000\n",
              "Name: IMDB_Rating, dtype: float64"
            ]
          },
          "metadata": {
            "tags": []
          },
          "execution_count": 132
        }
      ]
    },
    {
      "cell_type": "code",
      "metadata": {
        "colab": {
          "base_uri": "https://localhost:8080/"
        },
        "id": "fkUswBB1-39u",
        "outputId": "538acf0b-1403-4664-f96c-5365e986d6dc"
      },
      "source": [
        "peliculas.groupby(peliculas['Star1'])['IMDB_Rating'].mean().sort_values(ascending=True).head(15)"
      ],
      "execution_count": null,
      "outputs": [
        {
          "output_type": "execute_result",
          "data": {
            "text/plain": [
              "Star1\n",
              "Marion Cotillard      7.6\n",
              "Jürgen Vogel          7.6\n",
              "Emma Thompson         7.6\n",
              "Emily Blunt           7.6\n",
              "Elliott Gould         7.6\n",
              "Scarlett Johansson    7.6\n",
              "David Hemmings        7.6\n",
              "Mikael Persbrandt     7.6\n",
              "Michael Schwartz      7.6\n",
              "Cillian Murphy        7.6\n",
              "Chris Renaud          7.6\n",
              "Chris Evans           7.6\n",
              "Maribel Verdú         7.6\n",
              "Steve Martin          7.6\n",
              "Susanne Lothar        7.6\n",
              "Name: IMDB_Rating, dtype: float64"
            ]
          },
          "metadata": {
            "tags": []
          },
          "execution_count": 133
        }
      ]
    }
  ]
}